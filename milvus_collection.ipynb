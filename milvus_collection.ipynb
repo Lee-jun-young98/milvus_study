{
 "cells": [
  {
   "cell_type": "markdown",
   "id": "a6ae9852",
   "metadata": {},
   "source": [
    "# 컬렉션 만들기\n",
    "\n",
    "- 컬렉션은 고정 열과 변형 행이 있는 2차원 테이블\n",
    "- 각 열은 필드를 나타내고 각 행은 엔티티를 나타냄\n",
    "- 컬렉션을 만들려면 다음과 같은 사항을 수행해야함\n",
    "    - 스키마 만들기\n",
    "    - 인덱스 매개변수 설정 (선택 사항)\n",
    "    - 컬렉션 만들기\n",
    "\n",
    "참고자료: https://milvus.io/docs/ko/create-collection.md"
   ]
  },
  {
   "cell_type": "markdown",
   "id": "b2897fbc",
   "metadata": {},
   "source": [
    "## 스키마 만들기\n",
    "\n",
    "- 스키마는 컬렉션의 데이터 구조를 정의하며, 컬렉션을 만들 때는 요구 사항에 따라 스키마를 설계해야함"
   ]
  },
  {
   "cell_type": "code",
   "execution_count": 21,
   "id": "1fcec1fa",
   "metadata": {},
   "outputs": [],
   "source": [
    "from pymilvus import MilvusClient, DataType\n",
    "\n",
    "client = MilvusClient(\n",
    "    uri=\"http://localhost:19530\",\n",
    "    token=\"root:Milvus\"\n",
    ")"
   ]
  },
  {
   "cell_type": "code",
   "execution_count": 22,
   "id": "625ea0e2",
   "metadata": {},
   "outputs": [],
   "source": [
    "# 3.1. Create schema\n",
    "schema = MilvusClient.create_schema(\n",
    "    auto_id=False,\n",
    "    enable_dynamic_field=True,\n",
    ")"
   ]
  },
  {
   "cell_type": "code",
   "execution_count": 23,
   "id": "d7c63cbd",
   "metadata": {},
   "outputs": [
    {
     "data": {
      "text/plain": [
       "{'auto_id': False, 'description': '', 'fields': [{'name': 'my_id', 'description': '', 'type': <DataType.INT64: 5>, 'is_primary': True, 'auto_id': False}, {'name': 'my_vector', 'description': '', 'type': <DataType.FLOAT_VECTOR: 101>, 'params': {'dim': 5}}, {'name': 'my_varchar', 'description': '', 'type': <DataType.VARCHAR: 21>, 'params': {'max_length': 512}}], 'enable_dynamic_field': True}"
      ]
     },
     "execution_count": 23,
     "metadata": {},
     "output_type": "execute_result"
    }
   ],
   "source": [
    "# 3.2. Add fields to schema\n",
    "schema.add_field(field_name=\"my_id\", datatype=DataType.INT64, is_primary=True) # primary 키로 동작\n",
    "schema.add_field(field_name=\"my_vector\", datatype=DataType.FLOAT_VECTOR, dim=5) # 벡터 필드 # 임베딩의 dim으로 표시\n",
    "schema.add_field(field_name=\"my_varchar\", datatype=DataType.VARCHAR, max_length=512) # 문자열 필드"
   ]
  },
  {
   "cell_type": "markdown",
   "id": "45b714b0",
   "metadata": {},
   "source": [
    "## (선택 사항) 인덱스 매개변수 설정\n",
    "\n",
    "- 특정 필드에 인덱스를 생성하면 이 필드에 대한 검색 속도가 빨라짐 -> 인덱스는 컬렉션 내 엔티티의 순서를 기록\n",
    "- metric_type 및 index_type을 사용하여 Milvus가 필드를 색인하고 벡터 임베딩 간의 유사성을 측정하는 적절한 방법을 선택할 수 있음\n",
    "- Milvus에서는 모든 벡터 필드에 대한 인덱스 유형으로 AUTOINDEX을 사용하고 필요에 따라 COSINE, L2, IP 중 하나를 메트릭 유형으로 사용 가능\n",
    "- Vector 필드에서 Index는 필수적이며, 필터링 조건에서 자주 사용되는 스칼라 필드에 Index를 생성하는 것이 좋음\n",
    "\n",
    "### 참고자료\n",
    "- 벡터 필드 색인 생성: https://milvus.io/docs/ko/index-vector-fields.md?tab=floating\n",
    "- 스칼라 필드 색인 생성: https://milvus.io/docs/ko/index-scalar-fields.md"
   ]
  },
  {
   "cell_type": "code",
   "execution_count": 24,
   "id": "15bd0a77",
   "metadata": {},
   "outputs": [],
   "source": [
    "# 3.3. Prepare index parameters\n",
    "index_params = client.prepare_index_params()\n",
    "\n",
    "# 3.4. Add indexes\n",
    "index_params.add_index(\n",
    "    field_name=\"my_id\",\n",
    "    index_type=\"AUTOINDEX\"\n",
    ")\n",
    "\n",
    "index_params.add_index(\n",
    "    field_name=\"my_vector\",\n",
    "    index_type=\"AUTOINDEX\",\n",
    "    metric_type=\"COSINE\"\n",
    ")"
   ]
  },
  {
   "cell_type": "code",
   "execution_count": 25,
   "id": "74ce2bd7",
   "metadata": {},
   "outputs": [
    {
     "data": {
      "text/plain": [
       "[{'field_name': 'my_id', 'index_type': 'AUTOINDEX', 'index_name': ''},\n",
       " {'field_name': 'my_vector', 'index_type': 'AUTOINDEX', 'index_name': '', 'metric_type': 'COSINE'}]"
      ]
     },
     "execution_count": 25,
     "metadata": {},
     "output_type": "execute_result"
    }
   ],
   "source": [
    "index_params"
   ]
  },
  {
   "cell_type": "markdown",
   "id": "9ef3d0a1",
   "metadata": {},
   "source": [
    "## 컬렉션 만들기\n",
    "- 인덱스 파라미터가 있는 컬렉션을 생성한 경우, Milvus는 생성 시 자동으로 컬렉션을 로드\n",
    "- 이 경우 인덱스 매개변수에 언급된 모든 필드가 인덱싱 됨"
   ]
  },
  {
   "cell_type": "code",
   "execution_count": 27,
   "id": "947fb46e",
   "metadata": {},
   "outputs": [
    {
     "name": "stdout",
     "output_type": "stream",
     "text": [
      "{'state': <LoadState: Loaded>}\n"
     ]
    }
   ],
   "source": [
    "# 3.5. Create a collection with the index loaded simultaneously\n",
    "client.create_collection(\n",
    "    collection_name=\"customized_setup__1\",\n",
    "    schema=schema,\n",
    "    index_params=index_params\n",
    ")\n",
    "\n",
    "# client.load_collection(\"customized_setup__1\")\n",
    "\n",
    "res = client.get_load_state(\n",
    "    collection_name=\"customized_setup__1\"\n",
    ")\n",
    "\n",
    "print(res)"
   ]
  },
  {
   "cell_type": "code",
   "execution_count": 28,
   "id": "62a25f1c",
   "metadata": {},
   "outputs": [
    {
     "name": "stdout",
     "output_type": "stream",
     "text": [
      "{'state': <LoadState: NotLoad>}\n"
     ]
    }
   ],
   "source": [
    "# 3.6. Create a collection and index it separately\n",
    "\n",
    "client.create_collection(\n",
    "    collection_name=\"customized_setup_2\",\n",
    "    schema=schema,\n",
    ")\n",
    "\n",
    "# client.load_collection(\"customized_setup__2\")\n",
    "\n",
    "res = client.get_load_state(\n",
    "    collection_name=\"customized_setup_2\"\n",
    ")\n",
    "\n",
    "print(res)\n",
    "\n",
    "# Output\n",
    "#\n",
    "# {\n",
    "#     \"state\": \"<LoadState: NotLoad>\"\n",
    "# }\n"
   ]
  },
  {
   "cell_type": "markdown",
   "id": "92e5be62",
   "metadata": {},
   "source": [
    "# 컬렉션 속성 설정\n",
    "\n",
    "- 생성할 컬렉션의 속성을 설정하여 서비스에 적합하게 만듦\n",
    "\n",
    "## 샤드 번호 설정\n",
    "- 샤드(Shard)란?\n",
    "    - Milvus에서 데이터를 분산 저장하는 논리적 단위\n",
    "    - 하나의 컬렉션에서 여러 샤드로 나뉘어 저장됨\n",
    "    - 각 샤드는 독립적으로 데이터를 처리하고 검색을 수행\n",
    "- 일반적인 경우, 예상 처리량이 500MB/s 증가하거나 삽입할 데이터의 양이 100GB 증가할 때마다 샤드 수를 하나씩 늘리는 것을 고려"
   ]
  },
  {
   "cell_type": "code",
   "execution_count": 29,
   "id": "3ec09b16",
   "metadata": {},
   "outputs": [],
   "source": [
    "# With shard Number\n",
    "client.create_collection(\n",
    "    collection_name=\"customized_setup_3\",\n",
    "    schema=schema,\n",
    "    num_shards=1\n",
    ")"
   ]
  },
  {
   "cell_type": "markdown",
   "id": "b70732cb",
   "metadata": {},
   "source": [
    "## mmap 활성화\n",
    "- Milvus는 기본적으로 모든 컬렉션에서 mmap을 활성화하여 원시 필드 데이터를 완전히 로드하는 대신 메모리에 매핑할 수 있도록 함\n",
    "- 이렇게 하면 메모리 사용량이 줄어들고 수집용량이 증가"
   ]
  },
  {
   "cell_type": "code",
   "execution_count": 31,
   "id": "75920d2f",
   "metadata": {},
   "outputs": [],
   "source": [
    "# With mmap\n",
    "client.create_collection(\n",
    "    collection_name=\"customized_setup_4\",\n",
    "    schema=schema,\n",
    "    enable_map=False\n",
    ")"
   ]
  },
  {
   "cell_type": "markdown",
   "id": "73bd036b",
   "metadata": {},
   "source": [
    "## 컬랙션 TTL 설정"
   ]
  },
  {
   "cell_type": "code",
   "execution_count": 32,
   "id": "b17e2098",
   "metadata": {},
   "outputs": [],
   "source": [
    "# With TTL\n",
    "client.create_collection(\n",
    "    collection_name=\"customized_setup_5\",\n",
    "    schema=schema,\n",
    "    properties={\n",
    "        \"collection.ttl.seconds\": 86400\n",
    "    }\n",
    ")"
   ]
  },
  {
   "cell_type": "markdown",
   "id": "d1f0e5e9",
   "metadata": {},
   "source": [
    "## 일관성 수준 설정"
   ]
  },
  {
   "cell_type": "code",
   "execution_count": 33,
   "id": "ce3cd908",
   "metadata": {},
   "outputs": [],
   "source": [
    "# With consistency level\n",
    "client.create_collection(\n",
    "    collection_name=\"customized_setup_6\",\n",
    "    schema=schema,\n",
    "    consistency_level=\"Bounded\",\n",
    ")"
   ]
  },
  {
   "cell_type": "markdown",
   "id": "4cd08025",
   "metadata": {},
   "source": [
    "# 컬렉션 보기"
   ]
  },
  {
   "cell_type": "code",
   "execution_count": 34,
   "id": "d530b8c1",
   "metadata": {},
   "outputs": [],
   "source": [
    "from pymilvus import MilvusClient\n",
    "\n",
    "client = MilvusClient(\n",
    "    uri=\"http://localhost:19530\",\n",
    "    token=\"root:Milvus\"\n",
    ")\n",
    "\n",
    "res = client.list_collections()"
   ]
  }
 ],
 "metadata": {
  "kernelspec": {
   "display_name": "milvus_study",
   "language": "python",
   "name": "python3"
  },
  "language_info": {
   "codemirror_mode": {
    "name": "ipython",
    "version": 3
   },
   "file_extension": ".py",
   "mimetype": "text/x-python",
   "name": "python",
   "nbconvert_exporter": "python",
   "pygments_lexer": "ipython3",
   "version": "3.10.12"
  }
 },
 "nbformat": 4,
 "nbformat_minor": 5
}

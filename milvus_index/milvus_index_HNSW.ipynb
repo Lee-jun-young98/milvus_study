{
 "cells": [
  {
   "cell_type": "markdown",
   "id": "61e560dd",
   "metadata": {},
   "source": [
    "# HNSW\n",
    "- HNSW 인덱스는 고차원 부동 벡터를 검색할 때 성능을 향상시킬 수 있는 그래프 기반 인덱싱 알고리즘\n",
    "- 뛰어난 검색 정확도와 짧은 지연시간을 제공하는 반면, 계층적 그래프 구조를 유지하기 위해 높은 메모리 오버헤드 필요\n",
    "- 하단 레이어에는 모든 데이터 포인트가 포함되며, 상위 레이어는 하단 레이어에서 샘플링 된 데이터 포인트의 하위 집합으로 구성\n",
    "\n",
    "참고자료: https://milvus.io/docs/ko/v2.5.x/hnsw.md"
   ]
  },
  {
   "cell_type": "markdown",
   "id": "17be6243",
   "metadata": {},
   "source": [
    "## 작동 방식\n",
    "1. 진입 지점: 검색은 그래프에서 미리 결정된 노드인 최사우이 레이어의 고정된 진입점에서 시작\n",
    "2. GridSearch: 알고리즘은 쿼리 벡터에 더 이상 가까워질 수 없을 때까지 현재 레이어에서 가장 가까운 이웃으로 이동, 상위 레이어는 탐색 목적으로 사용되며, 하위 레이어에서 더 세밀한 검색을 위한 잠재적 진입점을 찾기 위한 필터 역할을 함\n",
    "3. 레이어 하강: 현재 레이어에서 로컬 최소값에 도달하면 알고리즘은 미리 설정된 연결을 사용하여 하위 레이어로 내려가 grid search를 반복\n",
    "4. 최종 다듬기: 이 프로세스는 최하위 레이어에 도달할 때까지 계속되며, 최종 세분화 단계에서는 가장 가까운 이웃을 식별"
   ]
  },
  {
   "cell_type": "markdown",
   "id": "4d841ca1",
   "metadata": {},
   "source": [
    "## 색인 만들기\n",
    "- Milvus의 벡터 필드에 HNSW 인덱스를 구축하려면 add_index() 방법을 사용하여 index_type, metric_type 및 인덱스에 대한 추가 매개변수를 지정"
   ]
  },
  {
   "cell_type": "code",
   "execution_count": 3,
   "id": "57d74ba7",
   "metadata": {},
   "outputs": [],
   "source": [
    "from pymilvus import MilvusClient\n",
    "\n",
    "index_params = MilvusClient.prepare_index_params()\n",
    "\n",
    "index_params.add_index(\n",
    "    field_name=\"vector\", # Name of the vector field to be indexed\n",
    "    index_type=\"HNSW\", # Type of the index to create\n",
    "    index_name=\"vector_index\", # Name of the index to create\n",
    "    metric_type=\"L2\", # Metric type used to measure similarity\n",
    "    params={\n",
    "        \"M\": 64, # graph에서 연결할 수 있는 최대 노드 수\n",
    "        \"efConstruction\": 100 # 인덱스 구조 연결을 위해 고려되는 최근접 이웃 수\n",
    "    } # Index building params\n",
    ")"
   ]
  },
  {
   "cell_type": "markdown",
   "id": "dd68173f",
   "metadata": {},
   "source": [
    "## 인덱스에서 검색\n",
    "- 인덱스가 구축되고 엔티티가 삽입되면 유사도 검색을 수행할 수 있음"
   ]
  },
  {
   "cell_type": "code",
   "execution_count": 5,
   "id": "ea875e76",
   "metadata": {},
   "outputs": [],
   "source": [
    "search_params = {\n",
    "    \"params\": {\n",
    "        \"ef\": 10, # Number of neighbors to consider during the search\n",
    "    }\n",
    "}\n",
    "\n",
    "client = MilvusClient(\n",
    "    uri=\"http://localhost:19530\"\n",
    ")\n",
    "\n",
    "\n",
    "res = client.search(\n",
    "    collection_name=\"my_collection\", # Collection name\n",
    "    anns_field=\"vector\", # Vector field name\n",
    "    data=[[0.1, 0.2, 0.3, 0.4, 0.5]],  # Query vector\n",
    "    limit=10,  # TopK results to return\n",
    "    search_params=search_params\n",
    ")\n"
   ]
  },
  {
   "cell_type": "code",
   "execution_count": 6,
   "id": "6d105c1b",
   "metadata": {},
   "outputs": [
    {
     "name": "stdout",
     "output_type": "stream",
     "text": [
      "data: [[]]\n"
     ]
    }
   ],
   "source": [
    "print(res)"
   ]
  }
 ],
 "metadata": {
  "kernelspec": {
   "display_name": "milvus_study",
   "language": "python",
   "name": "python3"
  },
  "language_info": {
   "codemirror_mode": {
    "name": "ipython",
    "version": 3
   },
   "file_extension": ".py",
   "mimetype": "text/x-python",
   "name": "python",
   "nbconvert_exporter": "python",
   "pygments_lexer": "ipython3",
   "version": "3.10.12"
  }
 },
 "nbformat": 4,
 "nbformat_minor": 5
}

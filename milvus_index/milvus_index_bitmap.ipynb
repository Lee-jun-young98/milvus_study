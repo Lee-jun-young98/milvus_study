{
 "cells": [
  {
   "cell_type": "markdown",
   "id": "b8e49cc5",
   "metadata": {},
   "source": [
    "# 비트맵\n",
    "-  비트맵 인덱싱은 카디널리티가 낮은 스칼라 필드에서 쿼리 성능을 개선하기 위해 고안된 효율적인 인덱싱 기법\n",
    "- 카디널리티는 필드에 있는 교유 값의 수를 나타냄\n",
    "- 고유 요소가 적은 필드는 카디널리티가 낮은 필드로 간주\n",
    "- 필드 값을 간결한 이진 형식으로 표현하고 효율적인 비트 단위 연산을 수행해 스칼라 쿼리의 검색 시간을 단축하는 데 도움이 됨\n",
    "- 다른 유형의 인덱스에 비해 비트맵 인덱스는 일반적으로 카디널리티가 낮은 필드를 처리할 때 공간 효율성이 높고 쿼리 속도가 빠름\n",
    "\n",
    "참교자료: https://milvus.io/docs/ko/v2.5.x/bitmap.md"
   ]
  },
  {
   "cell_type": "markdown",
   "id": "55bfc706",
   "metadata": {},
   "source": [
    "## 비트맵 인덱스 만들기\n",
    "- Milvus에서 비트맵 인덱스를 생성하려면 create_index() 방법을 사용하고 index_type 파라미터를 \"BITMAP\"로 설정"
   ]
  },
  {
   "cell_type": "code",
   "execution_count": 7,
   "id": "27fbfeb3",
   "metadata": {},
   "outputs": [],
   "source": [
    "from pymilvus import MilvusClient, DataType\n",
    "\n",
    "client = MilvusClient(\n",
    "    uri=\"http://localhost:19530\"  # 또는 실제 Milvus 서버 주소\n",
    ")\n",
    "\n",
    "index_params = client.prepare_index_params()\n",
    "\n",
    "if client.has_collection(\"my_collection\"):\n",
    "    client.drop_collection(\"my_collection\")\n",
    "\n",
    "schema = client.create_schema(\n",
    "    auto_id=False,\n",
    "    enable_dynamic_schema=False,\n",
    ")\n",
    "\n",
    "schema.add_field(field_name=\"index\", datatype=DataType.INT64, is_primary=True)\n",
    "schema.add_field(field_name=\"vector\", datatype=DataType.FLOAT_VECTOR, dim=5)\n",
    "schema.add_field(field_name=\"category\", datatype=DataType.INT64)\n",
    "schema.add_field(field_name=\"scalar_2\", datatype=DataType.INT32)\n",
    "\n",
    "client.create_collection(\n",
    "    collection_name=\"my_collection\",\n",
    "    schema=schema\n",
    ")\n",
    "\n",
    "index_params = MilvusClient.prepare_index_params()\n",
    "\n",
    "index_params.add_index(\n",
    "    field_name=\"category\",\n",
    "    index_type=\"BITMAP\",\n",
    "    index_name=\"category_bitmap_index\"\n",
    ")\n",
    "\n",
    "client.create_index(\n",
    "    collection_name=\"my_collection\",\n",
    "    index_params=index_params\n",
    ")"
   ]
  },
  {
   "cell_type": "markdown",
   "id": "516798c0",
   "metadata": {},
   "source": [
    "## 제한 사항\n",
    "- 비트맵 인덱스는 기본 키가 아닌 스칼라 필드에 대해서만 지원\n",
    "- 필드의 데이터 유형은 다음 중 하나여야 함\n",
    "    - BOOL, INT8, INT16, INT32, INT64, VARCHAR\n",
    "    - ARRAY(요소는 BOOL, INT8, INT16, INT32, INT64, VARCHAR) 중 하나여야 함\n",
    "- 비트맵 인덱스는 다음 데이터 유형을 지원하지 않음\n",
    "    - FLOAT, DOUBLE: 부동소수점 유형은 비트맵 인덱스의 이진 특성과 호환되지 않음\n",
    "    - JSON: JSON 데이터 유형은 비트맵 인덱스를 사용하여 효율적으로 표현할 수 없는 구조를 가지고 있음\n",
    "- 비트맵 인덱스는 카디널리티가 높은 필드(고유값이 많은)에는 적합하지 않음\n",
    "    - 500 미만일 때가 효과적\n",
    "    - 카디널리티가 이 임계값 이상으로 증가하면 비트맵 인덱스의 성능 이점이 줄어들고 스토리지 오버헤드가 크게 증가\n",
    "    - 카디널리티가 높은 필드의 경우, 특정 사용 사례와 쿼리 요구 사항에 따라 역 인덱스와 같은 대체 인덱싱 기술을 사용하는 것을 고려"
   ]
  }
 ],
 "metadata": {
  "kernelspec": {
   "display_name": "milvus_study",
   "language": "python",
   "name": "python3"
  },
  "language_info": {
   "codemirror_mode": {
    "name": "ipython",
    "version": 3
   },
   "file_extension": ".py",
   "mimetype": "text/x-python",
   "name": "python",
   "nbconvert_exporter": "python",
   "pygments_lexer": "ipython3",
   "version": "3.10.12"
  }
 },
 "nbformat": 4,
 "nbformat_minor": 5
}

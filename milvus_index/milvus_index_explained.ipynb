{
 "cells": [
  {
   "cell_type": "markdown",
   "id": "60b1a800",
   "metadata": {},
   "source": [
    "# 인덱스 설명\n",
    "- 인덱스는 데이터 위에 구축된 추가 구조\n",
    "- 내부 구조는 사용 중인 대략적인 최인접 이웃 검색 알고리즘에 따라 달라짐\n",
    "- 인덱스를 사용하면 검색 속도가 빨라지지만 검색 중에 전처리 시간, 공간 및 RAM이 추가로 발생\n",
    "\n",
    "- 참고자료: https://milvus.io/docs/ko/v2.5.x/index-explained.md"
   ]
  },
  {
   "cell_type": "markdown",
   "id": "0ca55588",
   "metadata": {
    "vscode": {
     "languageId": "plaintext"
    }
   },
   "source": [
    "## 개요\n",
    "- Milvus에서 인덱스는 필드에 한정되며, 대상 필드의 데이터 유형에 따라 적용 가능한 인덱스 유형이 달라짐\n",
    "\n"
   ]
  }
 ],
 "metadata": {
  "language_info": {
   "name": "python"
  }
 },
 "nbformat": 4,
 "nbformat_minor": 5
}

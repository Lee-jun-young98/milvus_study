{
 "cells": [
  {
   "cell_type": "markdown",
   "id": "9855dbe5",
   "metadata": {},
   "source": [
    "# FLAT\n",
    "- FLAT 인덱스는 부동 소수점 벡터를 색인하고 검색하는 가장 간단하고 직관적인 방법 중 하나\n",
    "- 고급 전처리나 데이터 구조화 없이 각 쿼리 벡터를 데이터 세트의 모든 벡터와 직접 비교하는 대입 방식에 의존\n",
    "- FLAT 인덱스는 모든 쿼리에 대해 데이터 세트의 전체 스캔을 수행하기 때문에 가장 느린 인덱싱 옵션\n",
    "- FLAT는 학습이나 복잡한 매개변수 구성이 필요 없기 때문에 단순성과 신뢰성이 높음"
   ]
  },
  {
   "cell_type": "markdown",
   "id": "dc7e9452",
   "metadata": {},
   "source": [
    "## 인덱스 구축\n",
    "- Milvus의 벡터 필드에 FLAT 인덱스를 구축하려면 add_index() 방법을 사용하여 인덱스에 index_type 및 metric_type 매개 변수를 지정"
   ]
  },
  {
   "cell_type": "code",
   "execution_count": null,
   "id": "7b394834",
   "metadata": {},
   "outputs": [],
   "source": [
    "from pymilvus import MilvusClient\n",
    "\n",
    "index_parmas = MilvusClient.prepare_index_params()\n",
    "\n",
    "index_parmas.add_index(\n",
    "    field_name=\"vector\",\n",
    "    index_type=\"FLAT\", # 빌드할 인덱스 유형\n",
    "    index_name=\"vector_index\", \n",
    "    metric_type=\"L2\", # 벡터 간의 거리를 계산하는 데 사용되는 메서드, COSINE, L2, IP\n",
    "    params={} # FLAT 인덱스에는 별도의 파라미터가 필요하지 않음\n",
    ")"
   ]
  },
  {
   "cell_type": "markdown",
   "id": "0e80ba1d",
   "metadata": {},
   "source": [
    "## 인덱스에서 검색\n",
    "- 인덱스가 생성되고 엔티티가 삽입되면 인덱스에서 유사도 검색을 수행"
   ]
  },
  {
   "cell_type": "code",
   "execution_count": null,
   "id": "30c47dae",
   "metadata": {},
   "outputs": [],
   "source": [
    "# 1. 클라이언트 인스턴스 생성\n",
    "client = MilvusClient(\n",
    "    uri=\"http://localhost:19530\"  # 또는 실제 Milvus 서버 주소\n",
    ")\n",
    "\n",
    "res = client.search(\n",
    "    collection_name=\"my_collection\", # Collection name\n",
    "    anns_field=\"vector\", # Vector field name\n",
    "    data=[[0.1, 0.2, 0.3, 0.4, 0.5]],  # Query vector\n",
    "    limit=3,  # TopK results to return\n",
    "    search_params={\"params\": {}}  # No additional parameters required for FLAT\n",
    ")"
   ]
  },
  {
   "cell_type": "code",
   "execution_count": 6,
   "id": "960f8bf3",
   "metadata": {},
   "outputs": [
    {
     "name": "stdout",
     "output_type": "stream",
     "text": [
      "data: [[]]\n"
     ]
    }
   ],
   "source": [
    "print(res)"
   ]
  }
 ],
 "metadata": {
  "kernelspec": {
   "display_name": "milvus_study",
   "language": "python",
   "name": "python3"
  },
  "language_info": {
   "codemirror_mode": {
    "name": "ipython",
    "version": 3
   },
   "file_extension": ".py",
   "mimetype": "text/x-python",
   "name": "python",
   "nbconvert_exporter": "python",
   "pygments_lexer": "ipython3",
   "version": "3.10.12"
  }
 },
 "nbformat": 4,
 "nbformat_minor": 5
}

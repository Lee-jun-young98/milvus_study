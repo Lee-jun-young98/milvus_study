{
 "cells": [
  {
   "cell_type": "markdown",
   "id": "1bddbc8a",
   "metadata": {},
   "source": [
    "# IVF_FLAT\n",
    "- IVF_FLAT 인덱스는 부동 소수점 벡터의 검색 성능을 향상시킬 수 있는 인덱싱 알고리즘\n",
    "- 빠른 쿼리 응답과 높은 정확도가 필요한 대규모 데이터 세트에 이상적이며, 데이터 세트를 클러스터링하면 검색 공간을 줄일 수 있고 클러스터 데이터를 저장하기에 충분한 메모리를 사용할 수 있는 경우에 적합\n",
    "\n",
    "참고자료: https://milvus.io/docs/ko/v2.5.x/ivf-flat.md"
   ]
  },
  {
   "cell_type": "markdown",
   "id": "7adbfc1a",
   "metadata": {},
   "source": [
    "## 개요\n",
    "- IVF_FLAT이라는 용어는 부동소수점 벡터의 인덱싱과 검색에 대한 이중 계층 접근 방식을 캡슐화하는 역파일 플랫(Inverted File Flat)의 약자"
   ]
  },
  {
   "cell_type": "markdown",
   "id": "be233518",
   "metadata": {},
   "source": [
    "## 인덱스 구축\n",
    "- Milvus의 벡터 필드에 IVF_FLAT 인덱스를 구축하려면 add_index() 방법을 사용하여 index_type, metric_type 및 인덱스에 대한 추가 매개 변수를 지정"
   ]
  },
  {
   "cell_type": "code",
   "execution_count": 2,
   "id": "f6bc8ace",
   "metadata": {},
   "outputs": [],
   "source": [
    "from pymilvus import MilvusClient\n",
    "\n",
    "index_params = MilvusClient.prepare_index_params()\n",
    "\n",
    "index_params.add_index(\n",
    "    field_name=\"vector\",\n",
    "    index_type=\"IVF_FLAT\", # 빌드할 인덱스 유형, IVF_FLAT로 설정\n",
    "    index_name=\"vector_index\", \n",
    "    metric_type=\"L2\", # 벡터 간의 거리 계산 COSINE, L2, IP\n",
    "    params={\n",
    "        \"nlist\": 64, # 데이터 세트를 분할할 클러스터의 수\n",
    "    }\n",
    ")"
   ]
  },
  {
   "cell_type": "markdown",
   "id": "4d26963b",
   "metadata": {},
   "source": [
    "## 인덱스에서 검색\n",
    "- 인덱스가 구축되고 엔티티가 삽입되면 인덱스에서도 유사도 검색 수행"
   ]
  },
  {
   "cell_type": "code",
   "execution_count": 4,
   "id": "eed5a5f1",
   "metadata": {},
   "outputs": [],
   "source": [
    "search_params = {\n",
    "    \"params\": {\n",
    "        \"nprobe\": 10,\n",
    "    }\n",
    "}\n",
    "\n",
    "client = MilvusClient(\n",
    "    uri=\"http://localhost:19530\"  # 또는 실제 Milvus 서버 주소\n",
    ")\n",
    "\n",
    "\n",
    "res = client.search(\n",
    "    collection_name=\"my_collection\",\n",
    "    anns_field=\"vector\",\n",
    "    data=[[0.1, 0.2, 0.3, 0.4, 0.5]],\n",
    "    limit=3,\n",
    "    search_params=search_params\n",
    ")"
   ]
  }
 ],
 "metadata": {
  "kernelspec": {
   "display_name": "milvus_study",
   "language": "python",
   "name": "python3"
  },
  "language_info": {
   "codemirror_mode": {
    "name": "ipython",
    "version": 3
   },
   "file_extension": ".py",
   "mimetype": "text/x-python",
   "name": "python",
   "nbconvert_exporter": "python",
   "pygments_lexer": "ipython3",
   "version": "3.10.12"
  }
 },
 "nbformat": 4,
 "nbformat_minor": 5
}

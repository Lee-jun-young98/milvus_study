{
 "cells": [
  {
   "cell_type": "markdown",
   "id": "bd1aee36",
   "metadata": {},
   "source": [
    "# IVF_PQ\n",
    "- IVF_PQ 인덱스는 고차원 공간에서 대략적인 최근접 이웃 검색을 위한 양자화 기반 인덱싱 알고리즘\n",
    "- 일부 그래프 기반 방법만큼 빠르진 않지만 IVF_PQ는 메모리를 훨씬 적게 필요로 하므로 대규모 데이터 세트에 실용적인 선택\n",
    "\n",
    "참고자료: https://milvus.io/docs/ko/v2.5.x/ivf-pq.md"
   ]
  },
  {
   "cell_type": "markdown",
   "id": "b2e3e8df",
   "metadata": {},
   "source": [
    "## 개요\n",
    "- IVF_PQ는 효율적인 벡터 검색과 검색을 위해 인덱싱과 압축을 결합한 하이브리드 접근 방식인 IVF와 PQ를 결합"
   ]
  },
  {
   "cell_type": "markdown",
   "id": "c851289a",
   "metadata": {},
   "source": [
    "### IVF\n",
    "- 책에서 색인을 만드는 것과 같음\n",
    "- 모든 페이지를 스캔하는 대신 색인에서 특정 키워드를 조회하여 관련 페이지를 빠르게 찾음\n",
    "- 벡터가 클러스터로 그룹화되고 알고리즘이 쿼리 벡터에 가까운 몇 개의 클러스터 내에서 검색함\n",
    "- 작동방식\n",
    "    1. 클러스터링: 벡터 데이터 세트는 k-means와 같은 클러스터링 알고리즘을 사용하여 지정된 수의 클러스토러 나뉨\n",
    "    2. 할당: 각 벡터는 중심이 가장 가까운 클러스터에 할당\n",
    "    3. 반전 인덱스: 각 클러스터 중심으로 해당 클러스터에 할당된 벡터 목록에 맵핑하는 인덱스가 생성\n",
    "    4. 검색: 가장 가까운 이웃을 검색할 때 검색 알고리즘은 쿼리 벡터와 클러스터 중심을 비교하여 가장 가능성이 높은 클러스터를 선택\n",
    "    "
   ]
  },
  {
   "cell_type": "markdown",
   "id": "873b63f7",
   "metadata": {},
   "source": [
    "## 인덱스 구축\n",
    "- Milvus의 벡터 필드에 IVF_PQ 인덱스를 구축하려면 add_index() 방법을 사용하여 index_type, metric_type 및 인덱스에 대한 추가 매개 변수를 지정"
   ]
  },
  {
   "cell_type": "code",
   "execution_count": 1,
   "id": "a61e15f9",
   "metadata": {},
   "outputs": [],
   "source": [
    "from pymilvus import MilvusClient\n",
    "\n",
    "index_parmas = MilvusClient.prepare_index_params()\n",
    "\n",
    "index_parmas.add_index(\n",
    "    field_name=\"vector\",\n",
    "    index_type=\"IVF_PQ\",\n",
    "    index_name=\"vector_index\",\n",
    "    metric_type=\"L2\",\n",
    "    params={\n",
    "        \"m\":4, # 벡터를 분할하기 위한 하위 벡터의 수\n",
    "    }\n",
    ")"
   ]
  },
  {
   "cell_type": "markdown",
   "id": "1959bb0b",
   "metadata": {},
   "source": [
    "## 인덱스에서 검색"
   ]
  },
  {
   "cell_type": "code",
   "execution_count": 3,
   "id": "d7f34be5",
   "metadata": {},
   "outputs": [],
   "source": [
    "search_params = {\n",
    "    \"params\": {\n",
    "        \"nprobe\": 10,\n",
    "    }\n",
    "}\n",
    "\n",
    "client = MilvusClient(\n",
    "    uri=\"http://localhost:19530\"\n",
    ")\n",
    "\n",
    "res = client.search(\n",
    "    collection_name=\"my_collection\",\n",
    "    anns_field=\"vector\",\n",
    "    data=[[0.1, 0.2, 0.3, 0.4, 0.5]],\n",
    "    limit=3,\n",
    "    search_params=search_params\n",
    ")"
   ]
  }
 ],
 "metadata": {
  "kernelspec": {
   "display_name": "milvus_study",
   "language": "python",
   "name": "python3"
  },
  "language_info": {
   "codemirror_mode": {
    "name": "ipython",
    "version": 3
   },
   "file_extension": ".py",
   "mimetype": "text/x-python",
   "name": "python",
   "nbconvert_exporter": "python",
   "pygments_lexer": "ipython3",
   "version": "3.10.12"
  }
 },
 "nbformat": 4,
 "nbformat_minor": 5
}

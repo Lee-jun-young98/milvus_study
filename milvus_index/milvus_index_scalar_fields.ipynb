{
 "cells": [
  {
   "cell_type": "markdown",
   "id": "d587ce5d",
   "metadata": {},
   "source": [
    "# 스칼라 필드 인덱스\n",
    "- Milvus에서 스칼라 인덱스는 기존 데이터베이스 인덱스와 유사하게 특정 비벡터 필드 값을 기준으로 메타필터링 속도를 높이는 데 사용\n",
    "- 이 가이드에서는 정수, 문자열 등과 같은 필드에 대한 스칼라 인덱스를 만들고 구성하는 방법을 안내함\n",
    "\n",
    "참고자료: https://milvus.io/docs/ko/v2.5.x/index-scalar-fields.md"
   ]
  },
  {
   "cell_type": "markdown",
   "id": "688147e1",
   "metadata": {},
   "source": [
    "## 스칼라 인덱싱의 유형\n",
    "- 자동 인덱싱: Milvus는 스칼라 필드의 데이터 유형에 따라 인덱스 유형을 자동으로 결정, 특정 인덱스 유형을 제어할 필요가 없는 경우 적합\n",
    "- 사용자 지정 인덱싱: 반전 인덱스 또는 비트맵 인덱스와 같은 정확한 인덱스 유형을 지정"
   ]
  },
  {
   "cell_type": "markdown",
   "id": "a96b80d0",
   "metadata": {},
   "source": [
    "## 자동 인덱싱\n",
    "- 자동 인덱싱을 사용하려면 인덱스 유형 매개변수(add_index())에서 인덱스 유형 매개변수를 생략하면 Milvus가 스칼리 필드 유형을 기반으로 인덱스 유형을 유추"
   ]
  },
  {
   "cell_type": "code",
   "execution_count": 12,
   "id": "a515e32f",
   "metadata": {},
   "outputs": [],
   "source": [
    "from pymilvus import MilvusClient, DataType\n",
    "\n",
    "client = MilvusClient(\n",
    "    uri=\"http://localhost:19530\"\n",
    ")\n",
    "\n",
    "if client.has_collection(\"test_scalar_index\"):\n",
    "    client.drop_collection(\"test_scalar_index\")\n",
    "\n",
    "schema = client.create_schema(\n",
    "    auto_id=False,\n",
    "    enable_dynamic_schema=False,\n",
    ")\n",
    "\n",
    "schema.add_field(field_name=\"index\", datatype=DataType.INT64, is_primary=True)\n",
    "schema.add_field(field_name=\"vector\", datatype=DataType.FLOAT_VECTOR, dim=5)\n",
    "schema.add_field(field_name=\"scalar_1\", datatype=DataType.INT64)\n",
    "schema.add_field(field_name=\"scalar_2\", datatype=DataType.INT32)\n",
    "\n",
    "client.create_collection(\n",
    "    collection_name=\"test_scalar_index\",\n",
    "    schema=schema\n",
    ")\n",
    "\n",
    "index_params = MilvusClient.prepare_index_params()\n",
    "\n",
    "index_params.add_index(\n",
    "    field_name=\"scalar_1\",\n",
    "    index_type=\"\",\n",
    "    index_name=\"default_index\"\n",
    ")\n",
    "\n",
    "client.create_index(\n",
    "    collection_name=\"test_scalar_index\",\n",
    "    index_params=index_params\n",
    ")"
   ]
  },
  {
   "cell_type": "code",
   "execution_count": 13,
   "id": "1878c5da",
   "metadata": {},
   "outputs": [
    {
     "data": {
      "text/plain": [
       "{'field_name': 'scalar_1',\n",
       " 'index_name': 'default_index',\n",
       " 'total_rows': 0,\n",
       " 'indexed_rows': 0,\n",
       " 'pending_index_rows': 0,\n",
       " 'state': 'Finished'}"
      ]
     },
     "execution_count": 13,
     "metadata": {},
     "output_type": "execute_result"
    }
   ],
   "source": [
    "client.describe_index(\n",
    "    collection_name=\"test_scalar_index\",\n",
    "    index_name=\"default_index\"\n",
    ")"
   ]
  },
  {
   "cell_type": "markdown",
   "id": "b10594e8",
   "metadata": {},
   "source": [
    "## 사용자 정의 인덱싱\n",
    "- 인덱스 유형 매개변수를 사용하여 특정 인덱스 유형을 지정 add_index()\n",
    "- 매서드 및 매개변수\n",
    "    - prepare_index_params()\n",
    "        - IndexParams 객체 준비\n",
    "    - add_index()\n",
    "        - IndexParams 객체에 인덱스 구성을 추가\n",
    "            - field_name(문자열): 인덱싱할 스칼라 필드의 이름\n",
    "            - index_type(문자열): 생성할 스칼라 인덱스의 유형, 암시적 인덱싱의 경우 이 매개변수를 비워두거나 생략\n",
    "                - INVERTED: (권장) 반전 인덱스는 토큰화된 모든 단어가 알파벳 순으로 정렬된 용어 사전으로 구성됨\n",
    "                - 비트맵: 필드에 있는 모든 고유 값의 비트맵을 저장하는 인덱스 유형\n",
    "                - STL_SORT: 표준 템플릿 라이브러리 정렬 알고리즘을 사용하여 스칼리 필드를 정렬, 숫자 필드만 지원(INT8, INT16, INT32, INT64, FLOAT, DOUBLE)\n",
    "                - 트라이: 빠른 접두사 검색 및 검색을 위한 트리 데이터 구조, VARCHAR 필드 지원\n",
    "                - index_name(문자열): 생성할 스칼라 인덱스의 이름, 각 스칼라 필드는 하나의 인덱스를 지원\n",
    "    - create_index()\n",
    "        - collection_name(문자열): 인덱스가 생성될 컬렉션의 이름\n",
    "        - index_params: 인덱스 구성을 포함하는 IndexParams 객체"
   ]
  },
  {
   "cell_type": "code",
   "execution_count": null,
   "id": "b451fe84",
   "metadata": {},
   "outputs": [],
   "source": [
    "index_params = MilvusClient.prepare_index_params()\n",
    "\n",
    "index_params.add_index(\n",
    "    field_name=\"scalar_2\",\n",
    "    index_type=\"INVERTED\",\n",
    "    index_name=\"inverted_index\"\n",
    ")\n",
    "\n",
    "client.create_index(\n",
    "    collection_name=\"test_scalar_index\",\n",
    "    index_params=index_params\n",
    ")"
   ]
  },
  {
   "cell_type": "markdown",
   "id": "0a0010aa",
   "metadata": {},
   "source": [
    "## 결과 확인\n",
    "- list_indexes() 메서드를 사용하여 스칼라 인덱스 생성 확인"
   ]
  },
  {
   "cell_type": "code",
   "execution_count": 15,
   "id": "e5c8e93b",
   "metadata": {},
   "outputs": [
    {
     "data": {
      "text/plain": [
       "['default_index', 'inverted_index']"
      ]
     },
     "execution_count": 15,
     "metadata": {},
     "output_type": "execute_result"
    }
   ],
   "source": [
    "client.list_indexes(\n",
    "    collection_name=\"test_scalar_index\"\n",
    ")"
   ]
  }
 ],
 "metadata": {
  "kernelspec": {
   "display_name": "milvus_study",
   "language": "python",
   "name": "python3"
  },
  "language_info": {
   "codemirror_mode": {
    "name": "ipython",
    "version": 3
   },
   "file_extension": ".py",
   "mimetype": "text/x-python",
   "name": "python",
   "nbconvert_exporter": "python",
   "pygments_lexer": "ipython3",
   "version": "3.10.12"
  }
 },
 "nbformat": 4,
 "nbformat_minor": 5
}

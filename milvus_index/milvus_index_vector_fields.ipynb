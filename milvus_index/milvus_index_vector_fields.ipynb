{
 "cells": [
  {
   "cell_type": "markdown",
   "id": "1e92ce25",
   "metadata": {},
   "source": [
    "# 벡터 필드 생성\n",
    "- 참고자료: https://milvus.io/docs/ko/v2.5.x/index-vector-fields.md?tab=floating"
   ]
  },
  {
   "cell_type": "markdown",
   "id": "ed066d93",
   "metadata": {},
   "source": [
    "## 개요\n",
    "- Milvus는 인덱스 파일에 저장된 메타데이터를 활용하여 데이터를 특수한 구조로 구성함으로써 검색 또는 쿼리 중에 요청된 정보를 신속하게 검색할 수 있도록 도와줌\n",
    "- 부동 소수점 임베딩\n",
    "    - 메트릭 유형\n",
    "        1. 유클리드 거리(L2)\n",
    "        2. 내적 곱(IP)\n",
    "        3. 코사인 유사도(COSINE)\n",
    "    - 인덱스 유형\n",
    "        1. FLAT\n",
    "        2. IVF_FLAT\n",
    "        3. IVF_SQ8\n",
    "        4. IVF_PQ\n",
    "        5. GPU_IVF_FLAT\n",
    "        6. GPU_IVF_PQ\n",
    "        7. HNSW\n",
    "        8. DISKANN\n",
    "\n",
    "- 자주 액세스하는 벡터 필드와 스칼라 필드 모두에 대한 인덱스를 만드는 것이 좋음"
   ]
  },
  {
   "cell_type": "markdown",
   "id": "7490ce52",
   "metadata": {
    "vscode": {
     "languageId": "plaintext"
    }
   },
   "source": [
    "## 준비\n",
    "- Milvus는 컬렉션을 생성할 때 다음 중 하나라도 지정되면 자동으로 인덱스를 생성하여 메모리에 로드함\n",
    "    - 벡터 필드의 차원 및 메트릭 유형\n",
    "    - 스키마 및 인덱스 매개변수"
   ]
  },
  {
   "cell_type": "code",
   "execution_count": 2,
   "id": "1f9fabc0",
   "metadata": {},
   "outputs": [],
   "source": [
    "from pymilvus import MilvusClient, DataType\n",
    "\n",
    "# 1. Set up a Milvus client\n",
    "client = MilvusClient(\n",
    "    uri=\"http://localhost:19530\"\n",
    ")\n",
    "\n",
    "# 2. Create schema\n",
    "# 2.1. Create schema\n",
    "schema = MilvusClient.create_schema(\n",
    "    auto_id=False,\n",
    "    enable_dynamic_field=True,\n",
    ")\n",
    "\n",
    "# 2.2. Add fields to schema\n",
    "schema.add_field(field_name=\"id\", datatype=DataType.INT64, is_primary=True)\n",
    "schema.add_field(field_name=\"vector\", datatype=DataType.FLOAT_VECTOR, dim=5)\n",
    "\n",
    "# 3. Create collection\n",
    "client.create_collection(\n",
    "    collection_name=\"customized_setup\",\n",
    "    schema=schema\n",
    ")"
   ]
  },
  {
   "cell_type": "markdown",
   "id": "d6f77d0b",
   "metadata": {},
   "source": [
    "## 컬렉션 색인 생성\n",
    "- 컬렉션의 인덱스를 생성하거나 컬렉션을 색인하려면, 다음을 사용하여 prepare_index_params()를 사용하여 인덱스 파라미터를 준비하고 create_index()를 사용하여 인덱스를 생성"
   ]
  },
  {
   "cell_type": "code",
   "execution_count": 4,
   "id": "9c2f7a02",
   "metadata": {},
   "outputs": [],
   "source": [
    "index_params = MilvusClient.prepare_index_params()\n",
    "\n",
    "index_params.add_index(\n",
    "    field_name=\"vector\", # 이 객체를 적용할 대상 파일의 이름\n",
    "    metric_type=\"COSINE\", # 벡터 간의 유사성을 측정하는 데 사용되는 알고리즘 -> IP, L2, COSINE, JACCARD, HAMMING\n",
    "    index_type=\"IVF_FLAT\", # -> 특정 필드에서 데이터를 정렬하는 데 사용되는 알고리즘, 인메모리 인덱스 및 온디스크 인덱스를 참조\n",
    "    index_name=\"vector_index\", # 개체가 적용된 후 생성된 인덱스 파일의 이름\n",
    "    params={\"nlist\": 128} \n",
    ")\n",
    "\n",
    "client.create_index(\n",
    "    collection_name=\"customized_setup\", # 기존 컬렉션 이름\n",
    "    index_params=index_params, # IndexParams 객체 목록이 포함된 IndexParams 객체\n",
    "    sync=False # 클라이언트의 요청과 관련하여 인덱스가 빌드되는 방식을 제어 -> True(인덱스가 완전히 빌드될 때까지 기다렸다가 반환), False(클라이언트 요청이 수신되고 인덱스가 백그라운드에서 빌드되는 즉시 반환)\n",
    ")"
   ]
  },
  {
   "cell_type": "markdown",
   "id": "8245a1f7",
   "metadata": {},
   "source": [
    "## 인덱스 세부 정보 확인\n",
    "- 인덱스 세부 정보를 확인하려면 list_indexes()을 사용하여 인덱스 이름을 나열하고 describe_index()을 사용하여 인덱스 세부 정보를 가져옴"
   ]
  },
  {
   "cell_type": "code",
   "execution_count": 5,
   "id": "24fe46a0",
   "metadata": {},
   "outputs": [
    {
     "name": "stdout",
     "output_type": "stream",
     "text": [
      "['vector_index']\n"
     ]
    }
   ],
   "source": [
    "res = client.list_indexes(\n",
    "    collection_name=\"customized_setup\"\n",
    ")\n",
    "\n",
    "print(res)"
   ]
  },
  {
   "cell_type": "code",
   "execution_count": 6,
   "id": "07d1b63f",
   "metadata": {},
   "outputs": [
    {
     "name": "stdout",
     "output_type": "stream",
     "text": [
      "{'nlist': '128', 'metric_type': 'COSINE', 'index_type': 'IVF_FLAT', 'field_name': 'vector', 'index_name': 'vector_index', 'total_rows': 0, 'indexed_rows': 0, 'pending_index_rows': 0, 'state': 'Finished'}\n"
     ]
    }
   ],
   "source": [
    "res = client.describe_index(\n",
    "    collection_name=\"customized_setup\",\n",
    "    index_name=\"vector_index\"\n",
    ")\n",
    "\n",
    "print(res)"
   ]
  },
  {
   "cell_type": "markdown",
   "id": "63f2773e",
   "metadata": {},
   "source": [
    "## 인덱스 삭제\n",
    "- 인덱스가 더 이상 필요하지 않은 경우 간단히 삭제 가능"
   ]
  },
  {
   "cell_type": "code",
   "execution_count": 7,
   "id": "80b8f57f",
   "metadata": {},
   "outputs": [],
   "source": [
    "client.drop_index(\n",
    "    collection_name=\"customized_setup\",\n",
    "    index_name=\"vector_index\"\n",
    ")"
   ]
  },
  {
   "cell_type": "code",
   "execution_count": null,
   "id": "10871627",
   "metadata": {},
   "outputs": [],
   "source": []
  }
 ],
 "metadata": {
  "kernelspec": {
   "display_name": "milvus_study",
   "language": "python",
   "name": "python3"
  },
  "language_info": {
   "codemirror_mode": {
    "name": "ipython",
    "version": 3
   },
   "file_extension": ".py",
   "mimetype": "text/x-python",
   "name": "python",
   "nbconvert_exporter": "python",
   "pygments_lexer": "ipython3",
   "version": "3.10.12"
  }
 },
 "nbformat": 4,
 "nbformat_minor": 5
}

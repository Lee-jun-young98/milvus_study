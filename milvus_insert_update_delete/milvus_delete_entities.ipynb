{
 "cells": [
  {
   "cell_type": "markdown",
   "id": "7599a06b",
   "metadata": {},
   "source": [
    "## 엔티티 삭제\n",
    "- 조건 또는 기본 키를 필터링하여 더 이상 필요하지 않은 엔티티를 삭제할 수 있음\n",
    "\n",
    "- 참고자료: https://milvus.io/docs/ko/v2.5.x/delete-entities.md"
   ]
  },
  {
   "cell_type": "markdown",
   "id": "da7d81ab",
   "metadata": {},
   "source": [
    "## 조건을 필터링하여 엔티티 삭제\n",
    "- 일부 속성을 공유하는 여러 개체를 일괄 삭제할 때 필터 표현식을 사용할 수 있음\n",
    "- 아래 예제 코드는 in 연산자를 사용하여 색상 필드가 빨간색과 보라색 값으로 설정된 모든 엔티티를 일괄 삭제함"
   ]
  },
  {
   "cell_type": "code",
   "execution_count": 7,
   "id": "7009182f",
   "metadata": {},
   "outputs": [
    {
     "name": "stdout",
     "output_type": "stream",
     "text": [
      "{'delete_count': 2}\n"
     ]
    }
   ],
   "source": [
    "from pymilvus import MilvusClient\n",
    "\n",
    "client = MilvusClient(\n",
    "    uri=\"http://localhost:19530\",\n",
    "    token=\"root:Milvus\"\n",
    ")\n",
    "\n",
    "res = client.delete(\n",
    "    collection_name=\"quick_setup\",\n",
    "    # highlight-next-line\n",
    "    filter=\"color in ['red_6450', 'purple_7392']\"\n",
    ")\n",
    "\n",
    "print(res)"
   ]
  },
  {
   "cell_type": "markdown",
   "id": "3f3d9435",
   "metadata": {},
   "source": [
    "## 기본 키로 엔티티 삭제하기"
   ]
  },
  {
   "cell_type": "code",
   "execution_count": 8,
   "id": "ab5f4d65",
   "metadata": {},
   "outputs": [
    {
     "name": "stdout",
     "output_type": "stream",
     "text": [
      "{'delete_count': 2}\n"
     ]
    }
   ],
   "source": [
    "res = client.delete(\n",
    "    collection_name=\"quick_setup\",\n",
    "    ids=[18, 19]\n",
    ")\n",
    "\n",
    "print(res)"
   ]
  },
  {
   "cell_type": "markdown",
   "id": "b30564a0",
   "metadata": {},
   "source": [
    "## 파티션에서 엔티티 삭제"
   ]
  },
  {
   "cell_type": "code",
   "execution_count": 9,
   "id": "06957dc5",
   "metadata": {},
   "outputs": [
    {
     "name": "stdout",
     "output_type": "stream",
     "text": [
      "{'delete_count': 2}\n"
     ]
    }
   ],
   "source": [
    "res = client.delete(\n",
    "    collection_name=\"quick_setup\",\n",
    "    ids=[18, 19],\n",
    "    partition_name=\"partitionA\"\n",
    ")\n",
    "\n",
    "print(res)"
   ]
  },
  {
   "cell_type": "code",
   "execution_count": null,
   "id": "d1954c78",
   "metadata": {},
   "outputs": [],
   "source": []
  }
 ],
 "metadata": {
  "kernelspec": {
   "display_name": "milvus_study",
   "language": "python",
   "name": "python3"
  },
  "language_info": {
   "codemirror_mode": {
    "name": "ipython",
    "version": 3
   },
   "file_extension": ".py",
   "mimetype": "text/x-python",
   "name": "python",
   "nbconvert_exporter": "python",
   "pygments_lexer": "ipython3",
   "version": "3.10.12"
  }
 },
 "nbformat": 4,
 "nbformat_minor": 5
}

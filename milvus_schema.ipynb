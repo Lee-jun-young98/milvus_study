{
 "cells": [
  {
   "cell_type": "markdown",
   "id": "92a00f88",
   "metadata": {},
   "source": [
    "# 스키마 설명\n",
    "- 컬렉션의 데이터 구조를 정의하며, 컬렉션을 만들기 전에 컬렉션의 스키마를 설계\n",
    "\n",
    "참고자료: https://milvus.io/docs/ko/schema.md"
   ]
  },
  {
   "cell_type": "code",
   "execution_count": 3,
   "id": "d992df3a",
   "metadata": {},
   "outputs": [],
   "source": [
    "from pymilvus import MilvusClient, DataType\n",
    "\n",
    "schema = MilvusClient.create_schema()"
   ]
  },
  {
   "cell_type": "markdown",
   "id": "107c50e5",
   "metadata": {},
   "source": [
    "## 기본 필드 추가\n",
    "- Int64 또는 VarChar 값만 허용"
   ]
  },
  {
   "cell_type": "code",
   "execution_count": 6,
   "id": "0a5ed0a5",
   "metadata": {},
   "outputs": [
    {
     "data": {
      "text/plain": [
       "{'auto_id': False, 'description': '', 'fields': [{'name': 'my_id', 'description': '', 'type': <DataType.INT64: 5>, 'is_primary': True, 'auto_id': False}, {'name': 'my_id', 'description': '', 'type': <DataType.INT64: 5>, 'is_primary': True, 'auto_id': False}], 'enable_dynamic_field': False}"
      ]
     },
     "execution_count": 6,
     "metadata": {},
     "output_type": "execute_result"
    }
   ],
   "source": [
    "schema.add_field(\n",
    "    field_name=\"my_id\",\n",
    "    datatype=DataType.INT64,\n",
    "    is_primary=True,\n",
    "    auto_id=False,\n",
    ")"
   ]
  },
  {
   "cell_type": "markdown",
   "id": "e8d00969",
   "metadata": {},
   "source": [
    "## 벡터 필드 추가\n",
    "- FLOAT16_VECTOR: 16비트 반정밀도 부동 소수점 목록을 보유\n",
    "- BFLOAT16_VECTOR: 정밀도는 떨어지지만 지수 범위는 Float32와 동일한 16비트 부동 소수점 숫자 목록\n",
    "- INT8_VECTOR: 8비트로 구성된 벡터를 저장하며, -128 ~ 127 사이, HNSW 인덱스에만 지원\n",
    "- BINARY_VECTOR: 0과 1벡터\n",
    "- SPARSE_FLOAT_VECTOR: 희소 벡터 임베딩을 나타내기 위해 0이 아닌 숫자와 그 시퀀스 번호의 목록을 보유"
   ]
  },
  {
   "cell_type": "code",
   "execution_count": 10,
   "id": "31596d00",
   "metadata": {},
   "outputs": [
    {
     "data": {
      "text/plain": [
       "{'auto_id': False, 'description': '', 'fields': [{'name': 'my_id', 'description': '', 'type': <DataType.INT64: 5>, 'is_primary': True, 'auto_id': False}, {'name': 'my_id', 'description': '', 'type': <DataType.INT64: 5>, 'is_primary': True, 'auto_id': False}, {'name': 'my_vector', 'description': '', 'type': <DataType.FLOAT_VECTOR: 101>, 'params': {'dim': 5}}, {'name': 'my_vector', 'description': '', 'type': <DataType.FLOAT_VECTOR: 101>, 'params': {'dim': 5}}], 'enable_dynamic_field': False}"
      ]
     },
     "execution_count": 10,
     "metadata": {},
     "output_type": "execute_result"
    }
   ],
   "source": [
    "schema.add_field(\n",
    "    field_name=\"my_vector\",\n",
    "    datatype=DataType.FLOAT_VECTOR,\n",
    "    dim=5\n",
    ")"
   ]
  },
  {
   "cell_type": "markdown",
   "id": "d08954d8",
   "metadata": {},
   "source": [
    "## 스칼라 필드 추가\n",
    "- 스칼라 필드를 사용하여 밀버스에 저장된 벡터 임베딩의 메타데이터를 저장하고 메타데이터 필터링을 통해 ANN 검색을 수행하여 검색 결과 정확도를 올릴 수 있음\n",
    "- VarChar, Boolean, Int, Float, Double, Array, JSON 등 다양한 스칼라 필드 타입 지원"
   ]
  },
  {
   "cell_type": "markdown",
   "id": "165d373b",
   "metadata": {},
   "source": [
    "## 문자열 필드 추가"
   ]
  },
  {
   "cell_type": "code",
   "execution_count": 13,
   "id": "0f47f6ea",
   "metadata": {},
   "outputs": [
    {
     "data": {
      "text/plain": [
       "{'auto_id': False, 'description': '', 'fields': [{'name': 'my_id', 'description': '', 'type': <DataType.INT64: 5>, 'is_primary': True, 'auto_id': False}, {'name': 'my_id', 'description': '', 'type': <DataType.INT64: 5>, 'is_primary': True, 'auto_id': False}, {'name': 'my_vector', 'description': '', 'type': <DataType.FLOAT_VECTOR: 101>, 'params': {'dim': 5}}, {'name': 'my_vector', 'description': '', 'type': <DataType.FLOAT_VECTOR: 101>, 'params': {'dim': 5}}, {'name': 'my_varchar', 'description': '', 'type': <DataType.VARCHAR: 21>, 'params': {'max_length': 512}}], 'enable_dynamic_field': False}"
      ]
     },
     "execution_count": 13,
     "metadata": {},
     "output_type": "execute_result"
    }
   ],
   "source": [
    "schema.add_field(\n",
    "    field_name=\"my_varchar\",\n",
    "    datatype=DataType.VARCHAR,\n",
    "    max_length=512\n",
    ")"
   ]
  },
  {
   "cell_type": "markdown",
   "id": "6df954bb",
   "metadata": {},
   "source": [
    "## 숫자 필드 추가"
   ]
  },
  {
   "cell_type": "code",
   "execution_count": 14,
   "id": "242767ad",
   "metadata": {},
   "outputs": [
    {
     "data": {
      "text/plain": [
       "{'auto_id': False, 'description': '', 'fields': [{'name': 'my_id', 'description': '', 'type': <DataType.INT64: 5>, 'is_primary': True, 'auto_id': False}, {'name': 'my_id', 'description': '', 'type': <DataType.INT64: 5>, 'is_primary': True, 'auto_id': False}, {'name': 'my_vector', 'description': '', 'type': <DataType.FLOAT_VECTOR: 101>, 'params': {'dim': 5}}, {'name': 'my_vector', 'description': '', 'type': <DataType.FLOAT_VECTOR: 101>, 'params': {'dim': 5}}, {'name': 'my_varchar', 'description': '', 'type': <DataType.VARCHAR: 21>, 'params': {'max_length': 512}}, {'name': 'my_int64', 'description': '', 'type': <DataType.INT64: 5>}], 'enable_dynamic_field': False}"
      ]
     },
     "execution_count": 14,
     "metadata": {},
     "output_type": "execute_result"
    }
   ],
   "source": [
    "schema.add_field(\n",
    "    field_name=\"my_int64\",\n",
    "    datatype=DataType.INT64,\n",
    ")"
   ]
  },
  {
   "cell_type": "markdown",
   "id": "06fb4ece",
   "metadata": {},
   "source": [
    "## 부울 필드 추가"
   ]
  },
  {
   "cell_type": "code",
   "execution_count": 15,
   "id": "ac70aef1",
   "metadata": {},
   "outputs": [
    {
     "data": {
      "text/plain": [
       "{'auto_id': False, 'description': '', 'fields': [{'name': 'my_id', 'description': '', 'type': <DataType.INT64: 5>, 'is_primary': True, 'auto_id': False}, {'name': 'my_id', 'description': '', 'type': <DataType.INT64: 5>, 'is_primary': True, 'auto_id': False}, {'name': 'my_vector', 'description': '', 'type': <DataType.FLOAT_VECTOR: 101>, 'params': {'dim': 5}}, {'name': 'my_vector', 'description': '', 'type': <DataType.FLOAT_VECTOR: 101>, 'params': {'dim': 5}}, {'name': 'my_varchar', 'description': '', 'type': <DataType.VARCHAR: 21>, 'params': {'max_length': 512}}, {'name': 'my_int64', 'description': '', 'type': <DataType.INT64: 5>}, {'name': 'my_bool', 'description': '', 'type': <DataType.BOOL: 1>}], 'enable_dynamic_field': False}"
      ]
     },
     "execution_count": 15,
     "metadata": {},
     "output_type": "execute_result"
    }
   ],
   "source": [
    "schema.add_field(\n",
    "    field_name=\"my_bool\",\n",
    "    datatype=DataType.BOOL,\n",
    ")\n"
   ]
  },
  {
   "cell_type": "markdown",
   "id": "a8493e25",
   "metadata": {},
   "source": [
    "## JSON 필드 추가"
   ]
  },
  {
   "cell_type": "code",
   "execution_count": 16,
   "id": "bcc65969",
   "metadata": {},
   "outputs": [
    {
     "data": {
      "text/plain": [
       "{'auto_id': False, 'description': '', 'fields': [{'name': 'my_id', 'description': '', 'type': <DataType.INT64: 5>, 'is_primary': True, 'auto_id': False}, {'name': 'my_id', 'description': '', 'type': <DataType.INT64: 5>, 'is_primary': True, 'auto_id': False}, {'name': 'my_vector', 'description': '', 'type': <DataType.FLOAT_VECTOR: 101>, 'params': {'dim': 5}}, {'name': 'my_vector', 'description': '', 'type': <DataType.FLOAT_VECTOR: 101>, 'params': {'dim': 5}}, {'name': 'my_varchar', 'description': '', 'type': <DataType.VARCHAR: 21>, 'params': {'max_length': 512}}, {'name': 'my_int64', 'description': '', 'type': <DataType.INT64: 5>}, {'name': 'my_bool', 'description': '', 'type': <DataType.BOOL: 1>}, {'name': 'my_json', 'description': '', 'type': <DataType.JSON: 23>}], 'enable_dynamic_field': False}"
      ]
     },
     "execution_count": 16,
     "metadata": {},
     "output_type": "execute_result"
    }
   ],
   "source": [
    "schema.add_field(\n",
    "    field_name=\"my_json\",\n",
    "    datatype=DataType.JSON,\n",
    ")\n"
   ]
  },
  {
   "cell_type": "markdown",
   "id": "69d1b2e8",
   "metadata": {},
   "source": [
    "## 배열 필드추가"
   ]
  },
  {
   "cell_type": "code",
   "execution_count": 17,
   "id": "2ede8161",
   "metadata": {},
   "outputs": [
    {
     "data": {
      "text/plain": [
       "{'auto_id': False, 'description': '', 'fields': [{'name': 'my_id', 'description': '', 'type': <DataType.INT64: 5>, 'is_primary': True, 'auto_id': False}, {'name': 'my_id', 'description': '', 'type': <DataType.INT64: 5>, 'is_primary': True, 'auto_id': False}, {'name': 'my_vector', 'description': '', 'type': <DataType.FLOAT_VECTOR: 101>, 'params': {'dim': 5}}, {'name': 'my_vector', 'description': '', 'type': <DataType.FLOAT_VECTOR: 101>, 'params': {'dim': 5}}, {'name': 'my_varchar', 'description': '', 'type': <DataType.VARCHAR: 21>, 'params': {'max_length': 512}}, {'name': 'my_int64', 'description': '', 'type': <DataType.INT64: 5>}, {'name': 'my_bool', 'description': '', 'type': <DataType.BOOL: 1>}, {'name': 'my_json', 'description': '', 'type': <DataType.JSON: 23>}, {'name': 'my_array', 'description': '', 'type': <DataType.ARRAY: 22>, 'params': {'max_length': 512, 'max_capacity': 5}, 'element_type': <DataType.VARCHAR: 21>}], 'enable_dynamic_field': False}"
      ]
     },
     "execution_count": 17,
     "metadata": {},
     "output_type": "execute_result"
    }
   ],
   "source": [
    "schema.add_field(\n",
    "    field_name=\"my_array\",\n",
    "    datatype=DataType.ARRAY,\n",
    "    element_type=DataType.VARCHAR,\n",
    "    max_capacity=5,\n",
    "    max_length=512,\n",
    ")\n"
   ]
  },
  {
   "cell_type": "markdown",
   "id": "6ec3e5f6",
   "metadata": {},
   "source": [
    "# 기본 필드 및 자동 ID\n",
    "- 기본 필드는 엔티티를 고유하게 식별함, 이 페이지에서는 서로 다른 두 데이터 유형의 기본 필드를 추가하는 방법과 Milvus가 기본 필드 값을 자동으로 할당하도록 설정하는 방법을 소개\n",
    "\n",
    "## 개요\n",
    "- 컬렉션에서 각 엔티티의 기본 키는 고유해야함, 기본 필드를 추가할 때 데이터 유형을 명시적으로 VARCHAR 또는 INT64로 설정해야함\n",
    "- INT64로 설정하면 기본 키가 12345와 유사한 정수여야 하고, 데이터 유형을 VARCHAR로 설정하면 기본 키가 my_entity_1234와 유사한 문자열이여야 함\n",
    "- AutoID를 활성화하여 Milvus가 수신 엔티티에 대해 기본 키를 자동으로 할당하도록 할 수 있음, 컬렉션에서 AutoID를 활성화한 후에는 엔티티를 삽입할 때 기본 키 포함 x\n",
    "- 컬렉션의 기본 필드에는 기본값이 없으며 null이 될 수 없음"
   ]
  },
  {
   "cell_type": "code",
   "execution_count": null,
   "id": "65b99216",
   "metadata": {},
   "outputs": [],
   "source": []
  }
 ],
 "metadata": {
  "kernelspec": {
   "display_name": "milvus_study",
   "language": "python",
   "name": "python3"
  },
  "language_info": {
   "codemirror_mode": {
    "name": "ipython",
    "version": 3
   },
   "file_extension": ".py",
   "mimetype": "text/x-python",
   "name": "python",
   "nbconvert_exporter": "python",
   "pygments_lexer": "ipython3",
   "version": "3.10.12"
  }
 },
 "nbformat": 4,
 "nbformat_minor": 5
}

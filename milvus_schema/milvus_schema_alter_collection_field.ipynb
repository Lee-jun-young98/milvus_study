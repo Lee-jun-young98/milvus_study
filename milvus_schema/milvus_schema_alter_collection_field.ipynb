{
 "cells": [
  {
   "cell_type": "markdown",
   "id": "f1a579a5",
   "metadata": {},
   "source": [
    "# 컬렉션 필드 변경\n",
    "- 컬렉션 필드의 속성을 변경하여 열 제약 조건을 변경하거나 더 엄격한 데이터 무결성 규칙을 적용할 수 있음\n",
    "- 각 컬렉션은 하나의 기본 필드로만 구성됨, 컬렉션 생성 시 기본 필드를 설정하면 해당 필드나 속성 변경 x\n",
    "- 각 컬렉션은 파티션 키를 하나만 가질 수 있음, 컬렉션 생성 시 설정한 파티션 키 변경 x"
   ]
  },
  {
   "cell_type": "code",
   "execution_count": 15,
   "id": "e51965de",
   "metadata": {},
   "outputs": [],
   "source": [
    "from pymilvus import MilvusClient, DataType\n",
    "\n",
    "client = MilvusClient(\n",
    "    uri=\"http://localhost:19530\",\n",
    "    token=\"root:Milvus\"\n",
    ")\n",
    "\n",
    "\n",
    "if client.has_collection(\"my_collection\"):\n",
    "    client.drop_collection(\"my_collection\")\n",
    "\n",
    "schema = client.create_schema(\n",
    "    auto_id=False,\n",
    "    enable_dynamic_schema=False,\n",
    ")\n",
    "\n",
    "schema.add_field(field_name=\"index\", datatype=DataType.INT64, is_primary=True)\n",
    "schema.add_field(field_name=\"varchar\", datatype=DataType.VARCHAR, max_length=1000)\n",
    "schema.add_field(field_name=\"vector\", datatype=DataType.FLOAT_VECTOR, dim=4)\n",
    "\n",
    "index_params = client.prepare_index_params()\n",
    "index_params.add_index(field_name=\"vector\", index_type=\"AUTOINDEX\", metric_type=\"L2\")\n",
    "\n",
    "client.create_collection(\n",
    "    collection_name=\"my_collection\",\n",
    "    schema=schema,\n",
    "    index_params=index_params\n",
    ")"
   ]
  },
  {
   "cell_type": "code",
   "execution_count": 16,
   "id": "ef4cccef",
   "metadata": {},
   "outputs": [
    {
     "data": {
      "text/plain": [
       "{'collection_name': 'my_collection',\n",
       " 'auto_id': False,\n",
       " 'num_shards': 1,\n",
       " 'description': '',\n",
       " 'fields': [{'field_id': 100,\n",
       "   'name': 'index',\n",
       "   'description': '',\n",
       "   'type': <DataType.INT64: 5>,\n",
       "   'params': {},\n",
       "   'is_primary': True},\n",
       "  {'field_id': 101,\n",
       "   'name': 'varchar',\n",
       "   'description': '',\n",
       "   'type': <DataType.VARCHAR: 21>,\n",
       "   'params': {'max_length': 1000}},\n",
       "  {'field_id': 102,\n",
       "   'name': 'vector',\n",
       "   'description': '',\n",
       "   'type': <DataType.FLOAT_VECTOR: 101>,\n",
       "   'params': {'dim': 4}}],\n",
       " 'functions': [],\n",
       " 'aliases': [],\n",
       " 'collection_id': 459127794349043484,\n",
       " 'consistency_level': 2,\n",
       " 'properties': {},\n",
       " 'num_partitions': 1,\n",
       " 'enable_dynamic_field': False,\n",
       " 'created_timestamp': 459242356338327564,\n",
       " 'update_timestamp': 459242356338327564}"
      ]
     },
     "execution_count": 16,
     "metadata": {},
     "output_type": "execute_result"
    }
   ],
   "source": [
    "client.describe_collection(\"my_collection\")"
   ]
  },
  {
   "cell_type": "code",
   "execution_count": 17,
   "id": "e743dad2",
   "metadata": {},
   "outputs": [
    {
     "data": {
      "text/plain": [
       "{'collection_name': 'my_collection',\n",
       " 'auto_id': False,\n",
       " 'num_shards': 1,\n",
       " 'description': '',\n",
       " 'fields': [{'field_id': 100,\n",
       "   'name': 'index',\n",
       "   'description': '',\n",
       "   'type': <DataType.INT64: 5>,\n",
       "   'params': {},\n",
       "   'is_primary': True},\n",
       "  {'field_id': 101,\n",
       "   'name': 'varchar',\n",
       "   'description': '',\n",
       "   'type': <DataType.VARCHAR: 21>,\n",
       "   'params': {'max_length': 1024}},\n",
       "  {'field_id': 102,\n",
       "   'name': 'vector',\n",
       "   'description': '',\n",
       "   'type': <DataType.FLOAT_VECTOR: 101>,\n",
       "   'params': {'dim': 4}}],\n",
       " 'functions': [],\n",
       " 'aliases': [],\n",
       " 'collection_id': 459127794349043484,\n",
       " 'consistency_level': 2,\n",
       " 'properties': {},\n",
       " 'num_partitions': 1,\n",
       " 'enable_dynamic_field': False,\n",
       " 'created_timestamp': 459242356338327564,\n",
       " 'update_timestamp': 459242363258929156}"
      ]
     },
     "execution_count": 17,
     "metadata": {},
     "output_type": "execute_result"
    }
   ],
   "source": [
    "client.alter_collection_field(\n",
    "    collection_name=\"my_collection\",\n",
    "    field_name=\"varchar\",\n",
    "    field_params={\n",
    "        \"max_length\": 1024\n",
    "    }\n",
    ")\n",
    "\n",
    "client.describe_collection(\"my_collection\")"
   ]
  },
  {
   "cell_type": "code",
   "execution_count": 25,
   "id": "89091932",
   "metadata": {},
   "outputs": [],
   "source": [
    "if client.has_collection(\"my_collection\"):\n",
    "    client.drop_collection(\"my_collection\")\n",
    "\n",
    "schema = client.create_schema(\n",
    "    auto_id=False,\n",
    "    enable_dynamic_schema=False,\n",
    ")\n",
    "\n",
    "schema.add_field(field_name=\"index\", datatype=DataType.INT64, is_primary=True)\n",
    "schema.add_field(field_name=\"array\", datatype=DataType.ARRAY, element_type=DataType.VARCHAR, max_length=65535, max_capacity=20)\n",
    "schema.add_field(field_name=\"vector\", datatype=DataType.FLOAT_VECTOR, dim=4)\n",
    "\n",
    "index_params = client.prepare_index_params()\n",
    "index_params.add_index(field_name=\"vector\", index_type=\"AUTOINDEX\", metric_type=\"L2\")\n",
    "\n",
    "client.create_collection(\n",
    "    collection_name=\"my_collection\",\n",
    "    schema=schema,\n",
    "    index_params=index_params\n",
    ")"
   ]
  },
  {
   "cell_type": "code",
   "execution_count": 26,
   "id": "aee2f085",
   "metadata": {},
   "outputs": [
    {
     "data": {
      "text/plain": [
       "{'collection_name': 'my_collection',\n",
       " 'auto_id': False,\n",
       " 'num_shards': 1,\n",
       " 'description': '',\n",
       " 'fields': [{'field_id': 100,\n",
       "   'name': 'index',\n",
       "   'description': '',\n",
       "   'type': <DataType.INT64: 5>,\n",
       "   'params': {},\n",
       "   'is_primary': True},\n",
       "  {'field_id': 101,\n",
       "   'name': 'array',\n",
       "   'description': '',\n",
       "   'type': <DataType.ARRAY: 22>,\n",
       "   'params': {'max_length': 65535, 'max_capacity': 20},\n",
       "   'element_type': <DataType.VARCHAR: 21>},\n",
       "  {'field_id': 102,\n",
       "   'name': 'vector',\n",
       "   'description': '',\n",
       "   'type': <DataType.FLOAT_VECTOR: 101>,\n",
       "   'params': {'dim': 4}}],\n",
       " 'functions': [],\n",
       " 'aliases': [],\n",
       " 'collection_id': 459127794349046087,\n",
       " 'consistency_level': 2,\n",
       " 'properties': {},\n",
       " 'num_partitions': 1,\n",
       " 'enable_dynamic_field': False,\n",
       " 'created_timestamp': 459242488970084361,\n",
       " 'update_timestamp': 459242488970084361}"
      ]
     },
     "execution_count": 26,
     "metadata": {},
     "output_type": "execute_result"
    }
   ],
   "source": [
    "client.describe_collection(\"my_collection\")"
   ]
  },
  {
   "cell_type": "code",
   "execution_count": 27,
   "id": "e0393809",
   "metadata": {},
   "outputs": [],
   "source": [
    "client.alter_collection_field(\n",
    "    collection_name=\"my_collection\",\n",
    "    field_name=\"array\",\n",
    "    field_params={\n",
    "        \"max_capacity\": 64\n",
    "    }\n",
    ")"
   ]
  },
  {
   "cell_type": "code",
   "execution_count": 28,
   "id": "b2f6efe4",
   "metadata": {},
   "outputs": [
    {
     "data": {
      "text/plain": [
       "{'collection_name': 'my_collection',\n",
       " 'auto_id': False,\n",
       " 'num_shards': 1,\n",
       " 'description': '',\n",
       " 'fields': [{'field_id': 100,\n",
       "   'name': 'index',\n",
       "   'description': '',\n",
       "   'type': <DataType.INT64: 5>,\n",
       "   'params': {},\n",
       "   'is_primary': True},\n",
       "  {'field_id': 101,\n",
       "   'name': 'array',\n",
       "   'description': '',\n",
       "   'type': <DataType.ARRAY: 22>,\n",
       "   'params': {'max_length': 65535, 'max_capacity': 64},\n",
       "   'element_type': <DataType.VARCHAR: 21>},\n",
       "  {'field_id': 102,\n",
       "   'name': 'vector',\n",
       "   'description': '',\n",
       "   'type': <DataType.FLOAT_VECTOR: 101>,\n",
       "   'params': {'dim': 4}}],\n",
       " 'functions': [],\n",
       " 'aliases': [],\n",
       " 'collection_id': 459127794349046087,\n",
       " 'consistency_level': 2,\n",
       " 'properties': {},\n",
       " 'num_partitions': 1,\n",
       " 'enable_dynamic_field': False,\n",
       " 'created_timestamp': 459242488970084361,\n",
       " 'update_timestamp': 459242489704087555}"
      ]
     },
     "execution_count": 28,
     "metadata": {},
     "output_type": "execute_result"
    }
   ],
   "source": [
    "client.describe_collection(\"my_collection\")"
   ]
  },
  {
   "cell_type": "code",
   "execution_count": null,
   "id": "7f2e947a",
   "metadata": {},
   "outputs": [],
   "source": []
  }
 ],
 "metadata": {
  "kernelspec": {
   "display_name": "milvus_study",
   "language": "python",
   "name": "python3"
  },
  "language_info": {
   "codemirror_mode": {
    "name": "ipython",
    "version": 3
   },
   "file_extension": ".py",
   "mimetype": "text/x-python",
   "name": "python",
   "nbconvert_exporter": "python",
   "pygments_lexer": "ipython3",
   "version": "3.10.12"
  }
 },
 "nbformat": 4,
 "nbformat_minor": 5
}

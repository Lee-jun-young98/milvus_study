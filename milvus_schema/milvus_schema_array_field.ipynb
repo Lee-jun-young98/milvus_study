{
 "cells": [
  {
   "cell_type": "markdown",
   "id": "fa2b8a61",
   "metadata": {},
   "source": [
    "# 배열 필드\n",
    "- 동일한 데이터 유형의 정렬된 요소 집합을 저장"
   ]
  },
  {
   "cell_type": "markdown",
   "id": "f36422c5",
   "metadata": {},
   "source": [
    "## 제한\n",
    "- 기본값: ARRAY 필드는 기본값을 지원하지 않음, nullable 속성을 True로 설정하여 null 값을 허용\n",
    "- 데이터 유형: 배열 필드의 모든 요소는 element_type에 지정된 대로 동일한 데이터 유형을 가져야 함, element_type을 VARCHAR로 설정할 경우 배열 요소에 대해서도 max_length를 설정해야 함\n",
    "- 배열 용량: 배열 필드의 요소 수는 max_capacity에 지정된 대로 배열을 생성할 때 정의된 최대 용량보다 작거나 같아야함 1 ~ 4096 사이\n",
    "- 문자열 처리: 배열 필드의 문자열 값은 시맨틱 이스케이프나 변환 없이 있는 그대로 저장, 예를 들어 'a\"b', \"a'b\", 'a\\'b', \"a\\\"b\" 은 입력한 대로 저장되고 'a'b' 및 \"a\"b\" 은 유효하지 않은 값으로 간주"
   ]
  },
  {
   "cell_type": "markdown",
   "id": "5b9d67e3",
   "metadata": {},
   "source": [
    "## ARRAY 필드 추가\n",
    "- 배열 필드 Milvus를 사용하려면 컬렉션 스키마를 만들 때 관련 필드 유형을 정의\n",
    "1. datatype을 지원되는 배열 데이터 유형인 ARRAY로 설정\n",
    "2. element_type 매개변수를 사용하여 배열에 있는 요소의 데이터 유형을 지정, VARCHAR 또는 INT64과 같이 Milvus에서 지원하는 모든 스칼라 데이터 유형이 될 수 있음 -> 동일한 배열의 모든 요소는 동일한 데이터 유형이어야 함\n",
    "3. max_capacity 매개변수를 사용하여 배열의 최대 용량, 즉 배열에 포함할 수 있는 최대 요소 수를 정의"
   ]
  },
  {
   "cell_type": "code",
   "execution_count": null,
   "id": "72a0c511",
   "metadata": {},
   "outputs": [
    {
     "data": {
      "text/plain": [
       "{'auto_id': False, 'description': '', 'fields': [{'name': 'tags', 'description': '', 'type': <DataType.ARRAY: 22>, 'params': {'max_length': 65535, 'max_capacity': 10}, 'nullable': True, 'element_type': <DataType.VARCHAR: 21>}, {'name': 'ratings', 'description': '', 'type': <DataType.ARRAY: 22>, 'params': {'max_capacity': 5}, 'nullable': True, 'element_type': <DataType.INT64: 5>}, {'name': 'pk', 'description': '', 'type': <DataType.INT64: 5>, 'is_primary': True, 'auto_id': False}, {'name': 'embedding', 'description': '', 'type': <DataType.FLOAT_VECTOR: 101>, 'params': {'dim': 3}}], 'enable_dynamic_field': False}"
      ]
     },
     "execution_count": 1,
     "metadata": {},
     "output_type": "execute_result"
    }
   ],
   "source": [
    "from pymilvus import MilvusClient, DataType\n",
    "\n",
    "SERVER_ADDR = \"http://localhost:19530\"\n",
    "\n",
    "client = MilvusClient(uri=SERVER_ADDR)\n",
    "\n",
    "schema = client.create_schema(\n",
    "    auto_id=False,\n",
    "    enable_dynamic_fields=True,\n",
    ")\n",
    "\n",
    "schema.add_field(field_name=\"tags\", datatype=DataType.ARRAY, element_type=DataType.VARCHAR, max_capacity=10, max_length=65535, nullable=True)\n",
    "schema.add_field(field_name=\"ratings\", datatype=DataType.ARRAY, element_type=DataType.INT64, max_capacity=5, nullable=True)\n",
    "schema.add_field(field_name=\"pk\", datatype=DataType.INT64, is_primary=True)\n",
    "schema.add_field(field_name=\"embedding\", datatype=DataType.FLOAT_VECTOR, dim=3)"
   ]
  },
  {
   "cell_type": "markdown",
   "id": "6730640c",
   "metadata": {},
   "source": [
    "## 인덱스 매개변수 설정"
   ]
  },
  {
   "cell_type": "code",
   "execution_count": 2,
   "id": "5a25e051",
   "metadata": {},
   "outputs": [],
   "source": [
    "index_params = client.prepare_index_params()\n",
    "\n",
    "index_params.add_index(\n",
    "    field_name=\"tags\",\n",
    "    index_type=\"AUTOINDEX\",\n",
    "    index_name=\"tags_index\"\n",
    ")\n",
    "\n",
    "index_params.add_index(\n",
    "    field_name=\"embedding\",\n",
    "    index_type=\"AUTOINDEX\",\n",
    "    metric_type=\"COSINE\"\n",
    ")"
   ]
  },
  {
   "cell_type": "markdown",
   "id": "9f861566",
   "metadata": {},
   "source": [
    "## 컬렉션 만들기"
   ]
  },
  {
   "cell_type": "code",
   "execution_count": 3,
   "id": "17c5e2ec",
   "metadata": {},
   "outputs": [],
   "source": [
    "if client.has_collection(\"my_collection\"):\n",
    "    client.drop_collection(\"my_collection\")\n",
    "\n",
    "client.create_collection(\n",
    "    collection_name=\"my_collection\",\n",
    "    schema=schema,\n",
    "    index_params=index_params\n",
    ")"
   ]
  },
  {
   "cell_type": "markdown",
   "id": "ef9bc39e",
   "metadata": {},
   "source": [
    "## 데이터 삽입"
   ]
  },
  {
   "cell_type": "code",
   "execution_count": 4,
   "id": "db49427a",
   "metadata": {},
   "outputs": [
    {
     "data": {
      "text/plain": [
       "{'insert_count': 3, 'ids': [1, 2, 3], 'cost': 0}"
      ]
     },
     "execution_count": 4,
     "metadata": {},
     "output_type": "execute_result"
    }
   ],
   "source": [
    "# Sample data\n",
    "data = [\n",
    "  {\n",
    "      \"tags\": [\"pop\", \"rock\", \"classic\"],\n",
    "      \"ratings\": [5, 4, 3],\n",
    "      \"pk\": 1,\n",
    "      \"embedding\": [0.12, 0.34, 0.56]\n",
    "  },\n",
    "  {\n",
    "      \"tags\": None,  # Entire ARRAY is null\n",
    "      \"ratings\": [4, 5],\n",
    "      \"pk\": 2,\n",
    "      \"embedding\": [0.78, 0.91, 0.23]\n",
    "  },\n",
    "  {  # The tags field is completely missing\n",
    "      \"ratings\": [9, 5],\n",
    "      \"pk\": 3,\n",
    "      \"embedding\": [0.18, 0.11, 0.23]\n",
    "  }\n",
    "]\n",
    "\n",
    "client.insert(\n",
    "    collection_name=\"my_collection\",\n",
    "    data=data\n",
    ")"
   ]
  },
  {
   "cell_type": "markdown",
   "id": "d833d566",
   "metadata": {},
   "source": [
    "## 필터 표현식을 사용한 쿼리"
   ]
  },
  {
   "cell_type": "code",
   "execution_count": 5,
   "id": "c8c1cc02",
   "metadata": {},
   "outputs": [
    {
     "name": "stdout",
     "output_type": "stream",
     "text": [
      "data: [\"{'ratings': [5, 4, 3], 'pk': 1, 'tags': ['pop', 'rock', 'classic']}\"]\n"
     ]
    }
   ],
   "source": [
    "filter = 'tags IS NOT NULL'\n",
    "\n",
    "res = client.query(\n",
    "    collection_name=\"my_collection\",\n",
    "    filter=filter,\n",
    "    output_fields=[\"tags\", \"ratings\", \"pk\"]\n",
    ")\n",
    "\n",
    "print(res)"
   ]
  },
  {
   "cell_type": "code",
   "execution_count": 6,
   "id": "3f4cc005",
   "metadata": {},
   "outputs": [
    {
     "name": "stdout",
     "output_type": "stream",
     "text": [
      "data: [\"{'tags': ['pop', 'rock', 'classic'], 'ratings': [5, 4, 3], 'embedding': [np.float32(0.12), np.float32(0.34), np.float32(0.56)], 'pk': 1}\", \"{'tags': None, 'ratings': [9, 5], 'embedding': [np.float32(0.18), np.float32(0.11), np.float32(0.23)], 'pk': 3}\"]\n"
     ]
    }
   ],
   "source": [
    "filter = 'ratings[0] > 4'\n",
    "\n",
    "res = client.query(\n",
    "    collection_name=\"my_collection\",\n",
    "    filter=filter,\n",
    "    output_fields=[\"tags\", \"ratings\", \"embedding\"]\n",
    ")\n",
    "\n",
    "print(res)"
   ]
  },
  {
   "cell_type": "markdown",
   "id": "40fcc50c",
   "metadata": {},
   "source": [
    "## 필터 표현식을 사용한 벡터 검색"
   ]
  },
  {
   "cell_type": "code",
   "execution_count": 8,
   "id": "8b7b933b",
   "metadata": {},
   "outputs": [
    {
     "name": "stdout",
     "output_type": "stream",
     "text": [
      "data: [[{'pk': 1, 'distance': -0.2479381263256073, 'entity': {'tags': ['pop', 'rock', 'classic'], 'ratings': [5, 4, 3], 'embedding': [0.11999999731779099, 0.3400000035762787, 0.5600000023841858]}}]]\n"
     ]
    }
   ],
   "source": [
    "filter = 'tags[0] == \"pop\"'\n",
    "\n",
    "res = client.search(\n",
    "    collection_name=\"my_collection\",\n",
    "    data=[[0.3, -0.6, 0.1]],\n",
    "    limit=5,\n",
    "    search_params={\"params\": {\"nprobe\": 10}},\n",
    "    output_fields=[\"tags\", \"ratings\", \"embedding\"],\n",
    "    filter=filter\n",
    ")\n",
    "\n",
    "print(res)"
   ]
  }
 ],
 "metadata": {
  "kernelspec": {
   "display_name": "milvus_study",
   "language": "python",
   "name": "python3"
  },
  "language_info": {
   "codemirror_mode": {
    "name": "ipython",
    "version": 3
   },
   "file_extension": ".py",
   "mimetype": "text/x-python",
   "name": "python",
   "nbconvert_exporter": "python",
   "pygments_lexer": "ipython3",
   "version": "3.10.12"
  }
 },
 "nbformat": 4,
 "nbformat_minor": 5
}

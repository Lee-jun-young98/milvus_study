{
 "cells": [
  {
   "cell_type": "markdown",
   "id": "96fc3b60",
   "metadata": {},
   "source": [
    "# 이진 벡터\n",
    "- 기존의 고차원 부동소수점 벡터를 0과 1만 포함하는 이진 벡터로 변환하는 특별한 형태의 데이터 표현\n",
    "- 벡터의 크기를 압축할 뿐만 아니라 의미 정보를 유지하면서 저장 및 계산 비용을 줄여줌\n",
    "- 중요하지 않은 특징에 대한 정밀도가 필수적이지 않은 경우, 이진 벡터는 원래 부동소수점 벡터의 무결성과 유용성 대부분을 효과적으로 유지할 수 있음\n",
    "- 검색 엔진이나 추천 시스템과 같은 대규모 AI 시스템에서는 방대한 양의 데이터를 실시간으로 처리하는 것이 핵심\n",
    "- 메모리와 처리 능력이 제한된 모바일 디바이스나 임베디드 시스템과 같은 리소스 제약이 있는 환경에서 유용\n",
    "\n",
    "참고 자료: https://milvus.io/docs/ko/binary-vector.md"
   ]
  },
  {
   "cell_type": "markdown",
   "id": "8ed171e9",
   "metadata": {},
   "source": [
    "## 개요\n",
    "- 이진 벡터는 이미지, 텍스트 또는 오디오와 같은 복잡한 객체를 고정 길이의 이진 값으로 인코딩하는 방법\n",
    "- 8차원 바이너리는 [1, 0, 1, 1, 0, 0, 1, 0]으료 표현\n",
    "\n",
    "### 이진 벡터 특징\n",
    "- 효율적인 저장 공간: 각 차원에는 1비트만 저장 공간이 필요해 저장 공간이 크게 줄어듦\n",
    "- 빠른 계산: XOR과 같은 비트 연산을 사용해 벡터 간의 유사도를 빠르게 계산\n",
    "- 고정 길이: 원본 텍스트 길이에 관계없이 벡터의 길이가 일정하게 유지되므로 색인 및 검색이 더 쉬워짐\n",
    "- 간단하고 직관적: 키워드의 존재 여부를 직접 반영하므로 특정 전문 검색 작업에 적합\n",
    "- 이미지 처리의 경우 지각 해싱 알고리즘을 통해 이미지의 이진 특징을 생성할 수 있음"
   ]
  },
  {
   "cell_type": "markdown",
   "id": "4945f8a5",
   "metadata": {},
   "source": [
    "# 벡터 필드 추가\n",
    "- datatype을 지원되는 바이너리 벡터 데이터 유형(예: BINARY_VECTOR)로 설정\n",
    "- dim 매개변수를 사용하여 벡터의 차원을 지정, 삽입할 때 바이너리 벡터를 바이트 배열로 변환해야 하므로 dim은 8의 배수여야 함\n",
    "- 8개의 부울 값(0 또는 1)은 모두 1바이트로 패킹됨, example) dim=128일경우 16바이트 배열이 필요"
   ]
  },
  {
   "cell_type": "code",
   "execution_count": 1,
   "id": "076b95ce",
   "metadata": {},
   "outputs": [
    {
     "data": {
      "text/plain": [
       "{'auto_id': True, 'description': '', 'fields': [{'name': 'pk', 'description': '', 'type': <DataType.VARCHAR: 21>, 'params': {'max_length': 100}, 'is_primary': True, 'auto_id': False}, {'name': 'binary_vector', 'description': '', 'type': <DataType.BINARY_VECTOR: 100>, 'params': {'dim': 128}}], 'enable_dynamic_field': False}"
      ]
     },
     "execution_count": 1,
     "metadata": {},
     "output_type": "execute_result"
    }
   ],
   "source": [
    "from pymilvus import MilvusClient, DataType\n",
    "\n",
    "client = MilvusClient(uri=\"http://localhost:19530\")\n",
    "\n",
    "schema = client.create_schema(\n",
    "    auto_id=True,\n",
    "    enable_dynamic_fields=True,\n",
    ")\n",
    "\n",
    "schema.add_field(field_name=\"pk\", datatype=DataType.VARCHAR, is_primary=True, max_length=100)\n",
    "schema.add_field(field_name=\"binary_vector\", datatype=DataType.BINARY_VECTOR, dim=128)\n"
   ]
  },
  {
   "cell_type": "markdown",
   "id": "9a57fa95",
   "metadata": {},
   "source": [
    "## 벡터 필드에 대한 인덱스 매개변수 설정\n",
    "- 인덱스 설명: https://milvus.io/docs/ko/index-explained.md\n",
    "- 메트릭 유형: https://milvus.io/docs/ko/metric.md"
   ]
  },
  {
   "cell_type": "code",
   "execution_count": null,
   "id": "2bc7a443",
   "metadata": {},
   "outputs": [],
   "source": [
    "index_params = client.prepare_index_params()\n",
    "\n",
    "index_params.add_index(\n",
    "    field_name=\"binary_vector\",\n",
    "    index_name=\"binary_vector_index\",\n",
    "    index_type=\"AUTOINDEX\",\n",
    "    metric_type=\"HAMMING\"\n",
    ")"
   ]
  },
  {
   "cell_type": "markdown",
   "id": "adbd1e4d",
   "metadata": {},
   "source": [
    "# 컬렉션 만들기"
   ]
  },
  {
   "cell_type": "code",
   "execution_count": 4,
   "id": "1c6258b6",
   "metadata": {},
   "outputs": [],
   "source": [
    "client.create_collection(\n",
    "    collection_name=\"my_collection2\",\n",
    "    schema=schema,\n",
    "    index_params=index_params\n",
    ")"
   ]
  },
  {
   "cell_type": "markdown",
   "id": "a8fb900f",
   "metadata": {},
   "source": [
    "# 데이터 삽입"
   ]
  },
  {
   "cell_type": "code",
   "execution_count": 6,
   "id": "74468d74",
   "metadata": {},
   "outputs": [
    {
     "data": {
      "text/plain": [
       "{'insert_count': 1, 'ids': ['459127794345938950'], 'cost': 0}"
      ]
     },
     "execution_count": 6,
     "metadata": {},
     "output_type": "execute_result"
    }
   ],
   "source": [
    "def convert_bool_list_to_bytes(bool_list):\n",
    "    if len(bool_list) % 8 != 0:\n",
    "        raise ValueError(\"The length of a boolean list must be a multiple of 8\")\n",
    "    \n",
    "    byte_array = bytearray(len(bool_list) // 8)\n",
    "    for i, bit in enumerate(bool_list):\n",
    "        if bit == 1:\n",
    "            index = i // 8\n",
    "            shift = i % 8\n",
    "            byte_array[index] |= (1 << shift)\n",
    "    return bytes(byte_array)\n",
    "\n",
    "bool_vectors = [\n",
    "    [1, 0, 0, 1, 1, 0, 1, 1, 0, 1, 0, 1, 0, 1, 0, 0] + [0] * 112,\n",
    "    [0, 1, 0, 1, 0, 1, 0, 0, 1, 1, 0, 0, 1, 1, 0, 1] + [0] * 112,\n",
    "]\n",
    "\n",
    "data = [{\"binary_vector\": convert_bool_list_to_bytes(bool_vector) for bool_vector in bool_vectors}]\n",
    "\n",
    "client.insert(\n",
    "    collection_name=\"my_collection2\",\n",
    "    data=data\n",
    ")"
   ]
  },
  {
   "cell_type": "markdown",
   "id": "eec643cb",
   "metadata": {},
   "source": [
    "# 유사도 검색 수행"
   ]
  },
  {
   "cell_type": "code",
   "execution_count": 8,
   "id": "d2da6819",
   "metadata": {},
   "outputs": [],
   "source": [
    "search_params = {\n",
    "    \"params\": {\"nprobe\": 10},  # nprobe는 검색 시 고려할 인덱스의 개수\n",
    "}\n",
    "\n",
    "query_bool_list = [1, 0, 0, 1, 1, 0, 1, 1, 0, 1, 0, 1, 0, 1, 0, 0] + [0] * 112\n",
    "query_vector = convert_bool_list_to_bytes(query_bool_list)\n",
    "\n",
    "res = client.search(\n",
    "    collection_name=\"my_collection2\",\n",
    "    data=[query_vector],\n",
    "    anns_field=\"binary_vector\",\n",
    "    search_params=search_params,\n",
    "    limit=5,\n",
    "    output_fields=[\"pk\"]\n",
    ")"
   ]
  },
  {
   "cell_type": "code",
   "execution_count": 9,
   "id": "0f638c64",
   "metadata": {},
   "outputs": [
    {
     "name": "stdout",
     "output_type": "stream",
     "text": [
      "data: [[{'pk': '459127794345938950', 'distance': 10.0, 'entity': {'pk': '459127794345938950'}}]]\n"
     ]
    }
   ],
   "source": [
    "print(res)"
   ]
  },
  {
   "cell_type": "code",
   "execution_count": null,
   "id": "db03dba4",
   "metadata": {},
   "outputs": [],
   "source": []
  }
 ],
 "metadata": {
  "kernelspec": {
   "display_name": "milvus_study",
   "language": "python",
   "name": "python3"
  },
  "language_info": {
   "codemirror_mode": {
    "name": "ipython",
    "version": 3
   },
   "file_extension": ".py",
   "mimetype": "text/x-python",
   "name": "python",
   "nbconvert_exporter": "python",
   "pygments_lexer": "ipython3",
   "version": "3.10.12"
  }
 },
 "nbformat": 4,
 "nbformat_minor": 5
}

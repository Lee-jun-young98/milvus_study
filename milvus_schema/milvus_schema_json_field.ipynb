{
 "cells": [
  {
   "cell_type": "markdown",
   "id": "d7b80564",
   "metadata": {},
   "source": [
    "# JSON 필드\n",
    "- JSON 필드는 벡터 임베딩과 함께 추가 정보를 키-값 쌍으로 저장하는 스칼라 필드\n",
    "\n",
    "## 제한\n",
    "- 필드 크기: JSON 필드 크기는 65,536바이트로 제한\n",
    "- 중첩된 사전: JSON 필드 값 내에 중첩된 dictionary는 저장 시 일반 문자열로 취급\n",
    "- 기본값: JSON 필드는 기본값 x 그러나 nullable 속성을 True로 설정하여 Null값 허용\n",
    "- 유형 일치: JSON 필드의 키 값이 정수 또는 실수인 경우 표현식 필터를 통해서만 같은 유형의 다른 숫자 키와 비교할 수 있음\n",
    "- 이름 지정: JSON 키의 이름을 지정할 때는 문자, 숫자, 밑줄만 사용하는 것이 좋음 -> 다른 문자 사용시 필터링이나 검색시 문제 생김\n",
    "- 문자열 처리: 'a\"b', \"a'b\", 'a\\\\'b', \"a\\\\\"b\" 는 그대로 저장, 'a'b' 와 \"a\"b\" 는 유효하지 않은 것으로 간주\n",
    "- JSON 인덱싱: JSON 필드를 색인할 때 JSON 필드에 하나 이상의 경로를 지정하여 필터링을 가속화할 수 있음 \n",
    "\n",
    "- 참고자료: https://milvus.io/docs/ko/use-json-fields.md"
   ]
  },
  {
   "cell_type": "markdown",
   "id": "dcf2551a",
   "metadata": {},
   "source": [
    "## JSON 필드 추가\n",
    "- 컬렉션 스키마에 이 JSON 필드 metadata를 추가하려면 DataType.JSON을 사용"
   ]
  },
  {
   "cell_type": "code",
   "execution_count": 1,
   "id": "82c04109",
   "metadata": {},
   "outputs": [
    {
     "data": {
      "text/plain": [
       "{'auto_id': False, 'description': '', 'fields': [{'name': 'metadata', 'description': '', 'type': <DataType.JSON: 23>, 'nullable': True}, {'name': 'pk', 'description': '', 'type': <DataType.INT64: 5>, 'is_primary': True, 'auto_id': False}, {'name': 'embedding', 'description': '', 'type': <DataType.FLOAT_VECTOR: 101>, 'params': {'dim': 3}}], 'enable_dynamic_field': False}"
      ]
     },
     "execution_count": 1,
     "metadata": {},
     "output_type": "execute_result"
    }
   ],
   "source": [
    "from pymilvus import MilvusClient, DataType\n",
    "\n",
    "SERVER_ADDR = \"http://localhost:19530\"\n",
    "\n",
    "client = MilvusClient(uri=SERVER_ADDR)\n",
    "\n",
    "schema = client.create_schema(\n",
    "    auto_id=False,\n",
    "    enable_dynamic_fields=True,\n",
    ")\n",
    "\n",
    "schema.add_field(field_name=\"metadata\", datatype=DataType.JSON, nullable=True)\n",
    "schema.add_field(field_name=\"pk\", datatype=DataType.INT64, is_primary=True)\n",
    "schema.add_field(field_name=\"embedding\", datatype=DataType.FLOAT_VECTOR, dim=3)"
   ]
  },
  {
   "cell_type": "markdown",
   "id": "6848c004",
   "metadata": {},
   "source": [
    "## 인덱스 매개변수 설정\n",
    "- 벡터 필드의 경우 필수\n",
    "- JSON 필드의 경우 선택 사항\n",
    "\n",
    "### JSON 필드 색인화\n",
    "- 기본적으로 JSON 필드는 색인화되지 않으므로 모든 필터 쿼리는 모든 행을 스캔해야 함\n",
    "- field_name: 스키마에 있는 JSON 필드의 이름\n",
    "- index_type: 생성할 인덱스 유형 JSON 경로 인덱싱에는 INVERTED만 지원됨"
   ]
  },
  {
   "cell_type": "code",
   "execution_count": null,
   "id": "b71e8a91",
   "metadata": {},
   "outputs": [],
   "source": [
    "index_params = client.prepare_index_params()\n",
    "\n",
    "# Example 1: Index the 'category' key inside 'product_info' as a string\n",
    "index_params.add_index(\n",
    "    field_name=\"metadata\", # JSON field name to index\n",
    "    index_type=\"INVERTED\", # Index type. Set to INVERTED\n",
    "    index_name=\"json_index_1\", # Index name\n",
    "    params={\n",
    "        \"json_path\": \"metadata[\\\"product_info\\\"][\\\"category\\\"]\", # Path in JSON field to index\n",
    "        \"json_cast_type\": \"varchar\" # Data type that the extracted JSON values will be cast to\n",
    "    }\n",
    ")\n",
    "\n",
    "# Example 2: Index 'price' as a numeric type (double)\n",
    "index_params.add_index(\n",
    "    field_name=\"metadata\",\n",
    "    index_type=\"INVERTED\",\n",
    "    index_name=\"json_index_2\",\n",
    "    params={\n",
    "        \"json_path\": \"metadata[\\\"price\\\"]\",\n",
    "        \"json_cast_type\": \"double\"\n",
    "    }\n",
    ")\n"
   ]
  },
  {
   "cell_type": "code",
   "execution_count": null,
   "id": "b3596d40",
   "metadata": {},
   "outputs": [],
   "source": []
  }
 ],
 "metadata": {
  "kernelspec": {
   "display_name": "milvus_study",
   "language": "python",
   "name": "python3"
  },
  "language_info": {
   "codemirror_mode": {
    "name": "ipython",
    "version": 3
   },
   "file_extension": ".py",
   "mimetype": "text/x-python",
   "name": "python",
   "nbconvert_exporter": "python",
   "pygments_lexer": "ipython3",
   "version": "3.10.12"
  }
 },
 "nbformat": 4,
 "nbformat_minor": 5
}

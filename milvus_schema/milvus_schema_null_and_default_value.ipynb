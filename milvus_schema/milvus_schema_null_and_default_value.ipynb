{
 "cells": [
  {
   "cell_type": "markdown",
   "id": "b96f4b88",
   "metadata": {},
   "source": [
    "# Null 가능 및 기본값\n",
    "- Milvus에서는 기본 필드를 제외한 스칼라 필드에 대해 nullable 속성 및 기본값을 설정할 수 있음\n",
    "- nullable=True로 표시된 필드의 경우 데이터를 삽입할 때 해당 필드를 건너뛰거나 직접 null 값으로 설정하면 시스템 오류 없이 null로 처리\n",
    "\n",
    "참교자료: https://milvus.io/docs/ko/nullable-and-default.md"
   ]
  },
  {
   "cell_type": "markdown",
   "id": "d2a96fdc",
   "metadata": {},
   "source": [
    "## 제한\n",
    "\n",
    "- 기본 피드를 제외한 스칼라 필드만 기본값 및 null 가능 속성을 지원\n",
    "- JSON 및 배열 필드는 기본값 지원 x\n",
    "- 기본값 또는 null 가능 속성은 컬렉션 생성 중에만 구성할 수 있으며 이후에는 수정할 수 없음\n",
    "- nullable 속성이 활성화된 스칼라 필드는 그룹화 검색에서 group_by_field로 사용할 수 없음\n",
    "- nullable로 표시된 필드는 파티션 키로 사용할 수 없음\n",
    "- nullable 속성이 활성화된 스칼라 필드에 인덱스를 생성할 때 null 값은 인덱스에서 제외\n",
    "- JSON 및 배열 필드: IS NULL 또는 IS NOT NULL 연산자를 사용하여 JSON 또는 ARRAY 필드를 필터링하는 경우, 이러한 연산자는 열 수준에서 작동하므로 전체 JSON 객체 또는 배열이 null인지 여부만 평가"
   ]
  },
  {
   "cell_type": "markdown",
   "id": "cab72d44",
   "metadata": {},
   "source": [
    "## Null 가능 속성\n",
    "- nullable 속성을 사용하면 컬렉션에 null 값을 저장할 수 있어 알 수 없는 데이터를 처리할 때 유연성을 제공\n",
    "\n",
    "### null 가능 속성 설정하기\n",
    "- 컬렉션을 만들 때 nullable=True을 사용하여 null 가능 필드를 정의(기본값 False)\n",
    "- 다음 예제에서는 my_collection라는 이름의 컬렉션을 만들고 age 필드를 nullable로 설정"
   ]
  },
  {
   "cell_type": "code",
   "execution_count": 3,
   "id": "79f3f06c",
   "metadata": {},
   "outputs": [],
   "source": [
    "from pymilvus import MilvusClient, DataType\n",
    "\n",
    "client = MilvusClient(uri='http://localhost:19530')\n",
    "\n",
    "schema = client.create_schema(\n",
    "    auto_id=False,\n",
    "    enable_dynamic_schema=True,\n",
    ")\n",
    "\n",
    "schema.add_field(field_name=\"id\", datatype=DataType.INT64, is_primary=True)\n",
    "schema.add_field(field_name=\"vector\", datatype=DataType.FLOAT_VECTOR, dim=5)\n",
    "schema.add_field(field_name=\"age\", datatype=DataType.INT64, nullable=True) # Nullable field\n",
    "\n",
    "# Set index params\n",
    "index_params = client.prepare_index_params()\n",
    "index_params.add_index(field_name=\"vector\", index_type=\"AUTOINDEX\", metric_type=\"L2\")\n",
    "\n",
    "if client.has_collection(\"my_collection\"):\n",
    "    client.drop_collection(\"my_collection\")\n",
    "\n",
    "# Create collection\n",
    "client.create_collection(collection_name=\"my_collection\", schema=schema, index_params=index_params)"
   ]
  },
  {
   "cell_type": "markdown",
   "id": "f359a89a",
   "metadata": {},
   "source": [
    "## 엔티티 삽입\n",
    "- null 가능 필드에 데이터를 삽입할 때는 null을 삽입하거나 이 필드를 직접 생략"
   ]
  },
  {
   "cell_type": "code",
   "execution_count": 4,
   "id": "42fef247",
   "metadata": {},
   "outputs": [
    {
     "data": {
      "text/plain": [
       "{'insert_count': 3, 'ids': [1, 2, 3], 'cost': 0}"
      ]
     },
     "execution_count": 4,
     "metadata": {},
     "output_type": "execute_result"
    }
   ],
   "source": [
    "data = [\n",
    "    {\"id\": 1, \"vector\": [0.1, 0.2, 0.3, 0.4, 0.5], \"age\": 30},\n",
    "    {\"id\": 2, \"vector\": [0.2, 0.3, 0.4, 0.5, 0.6], \"age\": None},\n",
    "    {\"id\": 3, \"vector\": [0.3, 0.4, 0.5, 0.6, 0.7]}\n",
    "]\n",
    "\n",
    "client.insert(collection_name=\"my_collection\", data=data)"
   ]
  },
  {
   "cell_type": "markdown",
   "id": "0feae694",
   "metadata": {},
   "source": [
    "## 널값으로 검색 및 쿼리\n",
    "- search 메서드를 사용할 때 필드에 null 값이 포함된 경우 검색 결과는 해당 필드를 null로 반환"
   ]
  },
  {
   "cell_type": "code",
   "execution_count": 6,
   "id": "e27a7909",
   "metadata": {},
   "outputs": [
    {
     "name": "stdout",
     "output_type": "stream",
     "text": [
      "data: [[{'id': 1, 'distance': 0.15838398039340973, 'entity': {'age': 30, 'id': 1}}, {'id': 2, 'distance': 0.28278401494026184, 'entity': {'age': None, 'id': 2}}]]\n"
     ]
    }
   ],
   "source": [
    "res = client.search(\n",
    "    collection_name=\"my_collection\",\n",
    "    data=[[0.1, 0.2, 0.4, 0.3, 0.128]],\n",
    "    limit=2,\n",
    "    search_params={\"params\": {\"nprobe\": 16}},\n",
    "    output_fields=[\"id\", \"age\"]\n",
    ")\n",
    "\n",
    "print(res)"
   ]
  },
  {
   "cell_type": "markdown",
   "id": "a2fd9fb1",
   "metadata": {},
   "source": [
    "- query 메서드를 스칼라 필터링에 사용하는 경우, null 값에 대한 필터링 결과는 모두 거짓이며, 선택되지 않음"
   ]
  },
  {
   "cell_type": "code",
   "execution_count": 7,
   "id": "182495bd",
   "metadata": {},
   "outputs": [],
   "source": [
    "results = client.query(\n",
    "    collection_name=\"my_collection\",\n",
    "    filter=\"age >= 0\",\n",
    "    output_fields=[\"id\", \"age\"]\n",
    ")"
   ]
  },
  {
   "cell_type": "code",
   "execution_count": 8,
   "id": "a0def955",
   "metadata": {},
   "outputs": [
    {
     "name": "stdout",
     "output_type": "stream",
     "text": [
      "data: [\"{'id': 1, 'age': 30}\"]\n"
     ]
    }
   ],
   "source": [
    "print(results)"
   ]
  },
  {
   "cell_type": "markdown",
   "id": "d61c08ff",
   "metadata": {},
   "source": [
    "- null 값을 가진 엔티티를 반환하려면 다음과 같이 스칼라 필터링 조건 없이 쿼리를 진행"
   ]
  },
  {
   "cell_type": "code",
   "execution_count": 9,
   "id": "6e4d2849",
   "metadata": {},
   "outputs": [],
   "source": [
    "null_results = client.query(\n",
    "    collection_name=\"my_collection\",\n",
    "    filter=\"\",\n",
    "    output_fields=[\"id\", \"age\"],\n",
    "    limit=10\n",
    ")"
   ]
  },
  {
   "cell_type": "code",
   "execution_count": 10,
   "id": "8515a4f7",
   "metadata": {},
   "outputs": [
    {
     "data": {
      "text/plain": [
       "data: [\"{'id': 1, 'age': 30}\", \"{'id': 2, 'age': None}\", \"{'id': 3, 'age': None}\"]"
      ]
     },
     "execution_count": 10,
     "metadata": {},
     "output_type": "execute_result"
    }
   ],
   "source": [
    "null_results"
   ]
  },
  {
   "cell_type": "markdown",
   "id": "36cad614",
   "metadata": {},
   "source": [
    "## 기본값\n",
    "- 스칼라 필드에 할당된 사전 설정값, 삽입 중에 기본값이 있는 필드에 값을 제공하지 않으면 시스템에서 자동으로 기본값을 사용"
   ]
  },
  {
   "cell_type": "markdown",
   "id": "2123b882",
   "metadata": {},
   "source": [
    "### 기본값 설정\n",
    "- 컬렉션을 만들 때 default_value 매개변수를 사용하여 필드의 기본값을 정의할 수 있음"
   ]
  },
  {
   "cell_type": "code",
   "execution_count": 31,
   "id": "7fb8a798",
   "metadata": {},
   "outputs": [],
   "source": [
    "schema = client.create_schema(\n",
    "    auto_id=False,\n",
    "    enable_dynamic_schema=True,\n",
    ")\n",
    "\n",
    "schema.add_field(field_name=\"id\", datatype=DataType.INT64, is_primary=True)\n",
    "schema.add_field(field_name=\"vector\", datatype=DataType.FLOAT_VECTOR, dim=4)\n",
    "schema.add_field(field_name=\"age\", datatype=DataType.INT64, default_value=18)\n",
    "schema.add_field(field_name=\"status\", datatype=DataType.VARCHAR, default_value=\"active\", max_length=10)\n",
    "\n",
    "index_params = client.prepare_index_params()\n",
    "index_params.add_index(field_name=\"vector\", index_type=\"AUTOINDEX\", metric_type=\"L2\")\n",
    "\n",
    "if client.has_collection(\"my_collection\"):\n",
    "    client.drop_collection(\"my_collection\")\n",
    "\n",
    "client.create_collection(collection_name=\"my_collection\", schema=schema, index_params=index_params)"
   ]
  },
  {
   "cell_type": "markdown",
   "id": "b35d3e6c",
   "metadata": {},
   "source": [
    "## 엔티티 삽입\n",
    "- 데이터를 삽입할 때 기본값이 있는 필드를 생략하거나 해당 값을 null로 설정하면 시스템에서 기본값을 사용"
   ]
  }
 ],
 "metadata": {
  "kernelspec": {
   "display_name": "milvus_study",
   "language": "python",
   "name": "python3"
  },
  "language_info": {
   "codemirror_mode": {
    "name": "ipython",
    "version": 3
   },
   "file_extension": ".py",
   "mimetype": "text/x-python",
   "name": "python",
   "nbconvert_exporter": "python",
   "pygments_lexer": "ipython3",
   "version": "3.10.12"
  }
 },
 "nbformat": 4,
 "nbformat_minor": 5
}

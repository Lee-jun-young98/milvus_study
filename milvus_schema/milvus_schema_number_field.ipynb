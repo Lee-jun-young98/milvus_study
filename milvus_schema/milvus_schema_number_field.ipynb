{
 "cells": [
  {
   "cell_type": "markdown",
   "id": "47f48842",
   "metadata": {},
   "source": [
    "# 숫자 필드\n",
    "- 숫자 값을 저장하는 스칼라 필드\n",
    "    - BOOL: Ture, False\n",
    "    - INT8: 8비트 정수, 작은 범위의 정수 데이터를 저장\n",
    "    - INT16: 16비트 정수, 중간 범위 정수 데이터 적합\n",
    "    - INT32: 32비트 정수, 제품 수량이나 사용자 ID와 같은 일반적인 정수 데이터 저장에 적합\n",
    "    - INT64: 64비트 정수, 타임스탬프나 식별자와 같은 대용량 데이터 저장에 적합\n",
    "    - FLOAT: 32비트 부동소수점 숫자, 등급이나 온도와 같이 일반적인 정밀도가 필요한 데이터에 적합\n",
    "    - DOUBLE: 64비트 배정밀도 부동 소수점 숫자, 재무 정보나 과학계산과 같은 고정밀 데이터에 적합\n",
    "\n",
    "- 참고 자료: https://milvus.io/docs/ko/number.md"
   ]
  },
  {
   "cell_type": "markdown",
   "id": "f352f835",
   "metadata": {},
   "source": [
    "## 숫자 필드 추가\n",
    "- 숫자 데이터를 저장하려면 컬렉션 스키마에 숫자 필드를 정의\n",
    "    - age: 정수 데이터 저장, null 허용, 기본값 18\n",
    "    - price: 부동 소수점 데이터 저장, null 허용 기본값 x"
   ]
  },
  {
   "cell_type": "code",
   "execution_count": 7,
   "id": "039d7a62",
   "metadata": {},
   "outputs": [
    {
     "data": {
      "text/plain": [
       "{'auto_id': False, 'description': '', 'fields': [{'name': 'age', 'description': '', 'type': <DataType.INT64: 5>, 'default_value': long_data: 18\n",
       ", 'nullable': True}, {'name': 'price', 'description': '', 'type': <DataType.FLOAT: 10>, 'nullable': True}, {'name': 'pk', 'description': '', 'type': <DataType.INT64: 5>, 'is_primary': True, 'auto_id': False}, {'name': 'embedding', 'description': '', 'type': <DataType.FLOAT_VECTOR: 101>, 'params': {'dim': 3}}], 'enable_dynamic_field': True}"
      ]
     },
     "execution_count": 7,
     "metadata": {},
     "output_type": "execute_result"
    }
   ],
   "source": [
    "from pymilvus import MilvusClient, DataType\n",
    "\n",
    "SERVER_ADDR = \"http://localhost:19530\"\n",
    "\n",
    "client = MilvusClient(uri=SERVER_ADDR)\n",
    "\n",
    "schema = client.create_schema(\n",
    "    auto_id=False,\n",
    "    enable_dynamic_field=True,\n",
    ")\n",
    "\n",
    "schema.add_field(field_name=\"age\", datatype=DataType.INT64, nullable=True, default_value=18)\n",
    "schema.add_field(field_name=\"price\", datatype=DataType.FLOAT, nullable=True)\n",
    "schema.add_field(field_name=\"pk\", datatype=DataType.INT64, is_primary=True)\n",
    "schema.add_field(field_name=\"embedding\", datatype=DataType.FLOAT_VECTOR, dim=3)"
   ]
  },
  {
   "cell_type": "markdown",
   "id": "946b607d",
   "metadata": {},
   "source": [
    "## 인덱스 매개변수 설정"
   ]
  },
  {
   "cell_type": "code",
   "execution_count": 8,
   "id": "a05180ad",
   "metadata": {},
   "outputs": [],
   "source": [
    "index_params = client.prepare_index_params()\n",
    "\n",
    "index_params.add_index(\n",
    "    field_name=\"age\",\n",
    "    index_type=\"AUTOINDEX\",\n",
    "    index_name=\"age_index\"\n",
    ")\n",
    "\n",
    "index_params.add_index(\n",
    "    field_name=\"embedding\",\n",
    "    index_type=\"AUTOINDEX\",\n",
    "    metric_type=\"COSINE\"\n",
    ")"
   ]
  },
  {
   "cell_type": "markdown",
   "id": "7e5774b8",
   "metadata": {},
   "source": [
    "## 컬렉션 만들기"
   ]
  },
  {
   "cell_type": "code",
   "execution_count": 9,
   "id": "ead0deaf",
   "metadata": {},
   "outputs": [],
   "source": [
    "if client.has_collection(\"my_collection\"):\n",
    "    client.drop_collection(\"my_collection\")\n",
    "\n",
    "client.create_collection(\n",
    "    collection_name=\"my_collection\",\n",
    "    schema=schema,\n",
    "    index_params=index_params\n",
    ")"
   ]
  },
  {
   "cell_type": "markdown",
   "id": "dac24d9f",
   "metadata": {},
   "source": [
    "## 데이터 삽입"
   ]
  },
  {
   "cell_type": "code",
   "execution_count": 10,
   "id": "8da95e29",
   "metadata": {},
   "outputs": [
    {
     "data": {
      "text/plain": [
       "{'insert_count': 6, 'ids': [1, 2, 3, 4, 5, 6], 'cost': 0}"
      ]
     },
     "execution_count": 10,
     "metadata": {},
     "output_type": "execute_result"
    }
   ],
   "source": [
    "# Sample data\n",
    "data = [\n",
    "    {\"age\": 25, \"price\": 99.99, \"pk\": 1, \"embedding\": [0.1, 0.2, 0.3]},\n",
    "    {\"age\": 30, \"pk\": 2, \"embedding\": [0.4, 0.5, 0.6]}, # `price` field is missing, which should be null\n",
    "    {\"age\": None, \"price\": None, \"pk\": 3, \"embedding\": [0.2, 0.3, 0.1]},  # `age` should default to 18, `price` is null\n",
    "    {\"age\": 45, \"price\": None, \"pk\": 4, \"embedding\": [0.9, 0.1, 0.4]},  # `price` is null\n",
    "    {\"age\": None, \"price\": 59.99, \"pk\": 5, \"embedding\": [0.8, 0.5, 0.3]},  # `age` should default to 18\n",
    "    {\"age\": 60, \"price\": None, \"pk\": 6, \"embedding\": [0.1, 0.6, 0.9]}  # `price` is null\n",
    "]\n",
    "\n",
    "client.insert(\n",
    "    collection_name=\"my_collection\",\n",
    "    data=data\n",
    ")\n"
   ]
  },
  {
   "cell_type": "markdown",
   "id": "7c109382",
   "metadata": {},
   "source": [
    "# 필터 표현식을 사용하여 쿼리"
   ]
  },
  {
   "cell_type": "code",
   "execution_count": 12,
   "id": "768ec6e9",
   "metadata": {},
   "outputs": [
    {
     "name": "stdout",
     "output_type": "stream",
     "text": [
      "data: [\"{'age': 45, 'price': None, 'pk': 4}\", \"{'age': 60, 'price': None, 'pk': 6}\"]\n"
     ]
    }
   ],
   "source": [
    "filter = \"age > 30\"\n",
    "\n",
    "res = client.query(\n",
    "    collection_name=\"my_collection\",\n",
    "    filter=filter,\n",
    "    output_fields=[\"age\", \"price\", \"pk\"]\n",
    ")\n",
    "\n",
    "print(res)"
   ]
  },
  {
   "cell_type": "code",
   "execution_count": 16,
   "id": "12363336",
   "metadata": {},
   "outputs": [
    {
     "name": "stdout",
     "output_type": "stream",
     "text": [
      "data: [\"{'age': 30, 'price': None, 'pk': 2}\", \"{'age': 18, 'price': None, 'pk': 3}\", \"{'age': 45, 'price': None, 'pk': 4}\", \"{'age': 60, 'price': None, 'pk': 6}\"]\n"
     ]
    }
   ],
   "source": [
    "filter = 'price is null'\n",
    "\n",
    "res = client.query(\n",
    "    collection_name=\"my_collection\",\n",
    "    filter=filter,\n",
    "    output_fields=[\"age\", \"price\", \"pk\"]\n",
    ")\n",
    "\n",
    "print(res)"
   ]
  },
  {
   "cell_type": "code",
   "execution_count": 19,
   "id": "d630e518",
   "metadata": {},
   "outputs": [
    {
     "name": "stdout",
     "output_type": "stream",
     "text": [
      "data: [\"{'pk': 3, 'age': 18, 'price': None}\"]\n"
     ]
    }
   ],
   "source": [
    "filter = 'price is null and age < 20'\n",
    "\n",
    "res = client.query(\n",
    "    collection_name=\"my_collection\",\n",
    "    filter=filter,\n",
    "    output_fields=[\"age\", \"price\", \"pk\"]\n",
    ")\n",
    "\n",
    "print(res)"
   ]
  },
  {
   "cell_type": "markdown",
   "id": "ef5d7e42",
   "metadata": {},
   "source": [
    "# 필터 표현식을 사용한 벡터 검색"
   ]
  },
  {
   "cell_type": "code",
   "execution_count": 21,
   "id": "4642d81c",
   "metadata": {},
   "outputs": [
    {
     "name": "stdout",
     "output_type": "stream",
     "text": [
      "data: [[{'pk': 2, 'distance': -0.2016308456659317, 'entity': {'age': 30, 'price': None}}, {'pk': 1, 'distance': -0.23643313348293304, 'entity': {'age': 25, 'price': 99.98999786376953}}]]\n"
     ]
    }
   ],
   "source": [
    "filter = \"25 <= age <= 35\"\n",
    "\n",
    "res = client.search(\n",
    "    collection_name=\"my_collection\",\n",
    "    data=[[0.3, -0.6, 0.1]],\n",
    "    limit=5,\n",
    "    search_params={\"params\": {\"nprobe\": 10}},\n",
    "    output_fields=[\"age\", \"price\"],\n",
    "    filter=filter\n",
    ")\n",
    "\n",
    "print(res)"
   ]
  },
  {
   "cell_type": "code",
   "execution_count": null,
   "id": "59788bbd",
   "metadata": {},
   "outputs": [],
   "source": []
  }
 ],
 "metadata": {
  "kernelspec": {
   "display_name": "milvus_study",
   "language": "python",
   "name": "python3"
  },
  "language_info": {
   "codemirror_mode": {
    "name": "ipython",
    "version": 3
   },
   "file_extension": ".py",
   "mimetype": "text/x-python",
   "name": "python",
   "nbconvert_exporter": "python",
   "pygments_lexer": "ipython3",
   "version": "3.10.12"
  }
 },
 "nbformat": 4,
 "nbformat_minor": 5
}

{
 "cells": [
  {
   "cell_type": "markdown",
   "id": "af4dbe26",
   "metadata": {},
   "source": [
    "# 스파스 벡터\n",
    "- 정보 검색 및 자연어 처리에서 표면 수준의 용어 일치를 포착하는 중요한 방법\n",
    "- 고밀도 벡터는 의미 이해에 탁월하지만, 희소 벡터는 특수 용어나 텍스트 식별자 검색에 일치 결과를 제공\n",
    "\n",
    "## 개요\n",
    "- 스파스 벡터는 대부분의 요소가 0이고 일부 차원만 0이 아닌 값을 갖는 특수한 고차원 벡터\n",
    "- 스파스 벡터는 두 가지 접근 방식을 사용하여 생성할 수 있음\n",
    "    - TF-IDF\n",
    "    - 신경 스파스 임베딩 모델\n",
    "\n",
    "참고자료: https://milvus.io/docs/ko/sparse_vector.md"
   ]
  },
  {
   "cell_type": "markdown",
   "id": "60cd897d",
   "metadata": {
    "vscode": {
     "languageId": "plaintext"
    }
   },
   "source": [
    "## 데이터 형식"
   ]
  },
  {
   "cell_type": "code",
   "execution_count": 1,
   "id": "4fbb7949",
   "metadata": {},
   "outputs": [],
   "source": [
    "# 사전 목록{dimension_index: vlaue, ...} 형식\n",
    "sparse_vectors = [{27: 0.5, 100: 0.3, 5369: 0.6}, {100: 0.1, 3: 0.8}]"
   ]
  },
  {
   "cell_type": "code",
   "execution_count": null,
   "id": "3f919562",
   "metadata": {},
   "outputs": [],
   "source": [
    "from scipy.sparse import csr_matrix\n",
    "\n",
    "# First vector: indices [27, 100, 5369] with values [0.5, 0.3, 0.6]\n",
    "# Second vector: indices [3, 100] with values [0.8, 0.1] \n",
    "indices = [[27, 100, 5369], [3, 100]]\n",
    "values = [[0.5, 0.3, 0.6], [0.8, 0.1]]\n",
    "\n",
    "sparse_vectors = [\n",
    "    csr_matrix((vals, ([0]*len(idx), idx)), shape=(1, 5370))  # max index + 1\n",
    "    for idx, vals in zip(indices, values)\n",
    "]\n"
   ]
  },
  {
   "cell_type": "code",
   "execution_count": 6,
   "id": "5b4cea57",
   "metadata": {},
   "outputs": [],
   "source": [
    "# 튜플 이터러블 목록(예: [(dimension_index, value)])\n",
    "\n",
    "sparse_vector = [\n",
    "    (27, 0.5), (100, 0.3), (5369, 0.6),\n",
    "    (100, 0.1), (3, 0.8)\n",
    "]"
   ]
  },
  {
   "cell_type": "markdown",
   "id": "8ce32a58",
   "metadata": {},
   "source": [
    "## 컬렉션 스키마 정의\n",
    "- 컬렉션을 만들기 전에 필드를 정의하는 컬렉션 스키마를 지정\n",
    "\n",
    "### 필드 추가\n",
    "- Milvus에서 스파스 벡터를 사용하려면 다음 필드를 포함하는 스키마로 컬렉션을 만들어야 함\n",
    "    - VARCHAR 필드에서 자동 생성되거나 입력 데이터에서 직접 제공된 희소 벡터를 저장하기 위해 예약된 SPARSE_FLOAT_VECTOR 필드\n",
    "    - 일반적으로 스파스 벡터가 나타내는 원시 텍스트도 컬렉션에 저장, VARCHAR 필드를 사용하여 원시 텍스트를 저장"
   ]
  },
  {
   "cell_type": "code",
   "execution_count": 18,
   "id": "0a04c9cb",
   "metadata": {},
   "outputs": [
    {
     "data": {
      "text/plain": [
       "{'auto_id': True, 'description': '', 'fields': [{'name': 'pk', 'description': '', 'type': <DataType.VARCHAR: 21>, 'params': {'max_length': 100}, 'is_primary': True, 'auto_id': False}, {'name': 'sparse_vector', 'description': '', 'type': <DataType.SPARSE_FLOAT_VECTOR: 104>}, {'name': 'text', 'description': '', 'type': <DataType.VARCHAR: 21>, 'params': {'max_length': 65535, 'enable_analyzer': True}}], 'enable_dynamic_field': True}"
      ]
     },
     "execution_count": 18,
     "metadata": {},
     "output_type": "execute_result"
    }
   ],
   "source": [
    "from pymilvus import MilvusClient, DataType\n",
    "\n",
    "client = MilvusClient(uri=\"http://localhost:19530\")\n",
    "\n",
    "schema = client.create_schema(\n",
    "    auto_id=True,\n",
    "    enable_dynamic_field=True,\n",
    ")\n",
    "\n",
    "schema.add_field(field_name=\"pk\", datatype=DataType.VARCHAR, is_primary=True, max_length=100) # 최대 100바이트 길이로 자동 생성되는 VARCHAR 데이터 유형을 사용하여 기본 키 저장\n",
    "schema.add_field(field_name=\"sparse_vector\", datatype=DataType.SPARSE_FLOAT_VECTOR) # SPARSE_FLOAT_VECTOR 데이터 유형을 사용하여 SPARSE VECTOR 저장\n",
    "schema.add_field(field_name=\"text\", datatype=DataType.VARCHAR, max_length=65535, enable_analyzer=True) # VARCHAR 데이터 유형을 사용하여 텍스트 문자열 저장"
   ]
  },
  {
   "cell_type": "markdown",
   "id": "952695c5",
   "metadata": {},
   "source": [
    "# 인덱스 매개변수 설정\n",
    "- 희소 벡터에 대한 인덱스를 생성하는 과정은 고밀도 벡터의 경우와 유사하지만 지정된 인덱스 유형(index_type), 거리 메트릭(metric_type), 인덱스 매개변수(params)에서 차이가 있음"
   ]
  },
  {
   "cell_type": "code",
   "execution_count": 19,
   "id": "07e3706c",
   "metadata": {},
   "outputs": [],
   "source": [
    "index_params = client.prepare_index_params()\n",
    "\n",
    "index_params.add_index(\n",
    "    field_name=\"sparse_vector\",\n",
    "    index_name=\"sparse_inverted_index\",\n",
    "    index_type=\"SPARSE_INVERTED_INDEX\",\n",
    "    metric_type=\"IP\",\n",
    "    params={\"inverted_index_algo\": \"DAAT_MAXSCORE\"}, # or \"DAAT_WAND\" or \"TAAT_NAIVE\"\n",
    ")\n"
   ]
  },
  {
   "cell_type": "markdown",
   "id": "1bf9d290",
   "metadata": {},
   "source": [
    "# 컬렉션 만들기"
   ]
  },
  {
   "cell_type": "code",
   "execution_count": 20,
   "id": "45c8c666",
   "metadata": {},
   "outputs": [],
   "source": [
    "if client.has_collection(\"my_collection\"):\n",
    "    client.drop_collection(\"my_collection\")\n",
    "\n",
    "client.create_collection(\n",
    "    collection_name=\"my_collection\",\n",
    "    schema=schema,\n",
    "    index_params=index_params\n",
    ")"
   ]
  },
  {
   "cell_type": "markdown",
   "id": "2db6cf40",
   "metadata": {},
   "source": [
    "# 데이터 삽입"
   ]
  },
  {
   "cell_type": "code",
   "execution_count": 21,
   "id": "52b4687b",
   "metadata": {},
   "outputs": [],
   "source": [
    "data = [\n",
    "    {\n",
    "        \"text\": \"information retrieval is a field of study.\",\n",
    "        \"sparse_vector\": {1: 0.5, 100: 0.3, 500: 0.8}\n",
    "    },\n",
    "    {\n",
    "        \"text\": \"information retrieval focuses on finding relevant information in large datasets.\",\n",
    "        \"sparse_vector\": {10: 0.1, 200: 0.7, 1000: 0.9}\n",
    "    }\n",
    "]"
   ]
  },
  {
   "cell_type": "code",
   "execution_count": 22,
   "id": "b226e2a2",
   "metadata": {},
   "outputs": [
    {
     "data": {
      "text/plain": [
       "{'insert_count': 2, 'ids': ['459127794345938952', '459127794345938953'], 'cost': 0}"
      ]
     },
     "execution_count": 22,
     "metadata": {},
     "output_type": "execute_result"
    }
   ],
   "source": [
    "client.insert(\n",
    "    collection_name=\"my_collection\",\n",
    "    data=data\n",
    ")"
   ]
  },
  {
   "cell_type": "markdown",
   "id": "c76c8007",
   "metadata": {},
   "source": [
    "# 유사도 검색  수행\n",
    "- 스파스 벡터를 사용하여 유사도 검색을 수행하려면 쿼리 데이터와 검색 매개변수를 모두 준비"
   ]
  },
  {
   "cell_type": "code",
   "execution_count": 23,
   "id": "452e446c",
   "metadata": {},
   "outputs": [],
   "source": [
    "search_params = {\n",
    "    \"params\": {\"drop_ratio_search\": 0.2},\n",
    "}\n",
    "\n",
    "query_data = [{1: 0.2, 50: 0.4, 1000: 0.7}]"
   ]
  },
  {
   "cell_type": "code",
   "execution_count": 24,
   "id": "a1313f85",
   "metadata": {},
   "outputs": [],
   "source": [
    "res = client.search(\n",
    "    collection_name=\"my_collection\",\n",
    "    data=query_data,\n",
    "    limit=3,\n",
    "    output_fields=[\"pk\"],\n",
    "    search_params=search_params,\n",
    ")"
   ]
  },
  {
   "cell_type": "code",
   "execution_count": 25,
   "id": "c622a230",
   "metadata": {},
   "outputs": [
    {
     "name": "stdout",
     "output_type": "stream",
     "text": [
      "data: [[{'pk': '459127794345938953', 'distance': 0.6299999952316284, 'entity': {'pk': '459127794345938953'}}, {'pk': '459127794345938952', 'distance': 0.10000000149011612, 'entity': {'pk': '459127794345938952'}}]]\n"
     ]
    }
   ],
   "source": [
    "print(res)"
   ]
  }
 ],
 "metadata": {
  "kernelspec": {
   "display_name": "milvus_study",
   "language": "python",
   "name": "python3"
  },
  "language_info": {
   "codemirror_mode": {
    "name": "ipython",
    "version": 3
   },
   "file_extension": ".py",
   "mimetype": "text/x-python",
   "name": "python",
   "nbconvert_exporter": "python",
   "pygments_lexer": "ipython3",
   "version": "3.10.12"
  }
 },
 "nbformat": 4,
 "nbformat_minor": 5
}

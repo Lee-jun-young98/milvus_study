{
 "cells": [
  {
   "cell_type": "markdown",
   "id": "c214f81b",
   "metadata": {},
   "source": [
    "# 문자열 필드\n",
    "- Milvus에서 VARCHAR은 문자열 데이터를 저장하는 데 사용되는 데이터 유형\n",
    "- VARCHAR 필드를 정의할 때 다음과 같은 두 개의 매개변수는 필수\n",
    "    - datatype을 DataType.VARCHAR로 설정\n",
    "    - VARCHAR 필드에 저장할 수 있는 최대 바이트 수를 정의 max_length를 지정, 1 ~ 65,535가 범위\n",
    "\n",
    "* Milvus는 VARCHAR 필드에 대해 null 값과 기본값을 지원, 이러한 기본 기능을 사용하려면 nullable을 True, default_value을 문자열 값으로 설정\n",
    "\n",
    "- 참고자료: https://milvus.io/docs/ko/string.md"
   ]
  },
  {
   "cell_type": "markdown",
   "id": "362a4218",
   "metadata": {},
   "source": [
    "# VARCHAR 필드 추가\n",
    "- varchar_field1: 최대 100바이트까지 저장, null 값 허용, 기본값 \"Unknown\"\n",
    "- varchar_field2: 최대 200바이트까지 저장, null 값 허용, 기본값 x\n",
    "\n",
    "* enable_dynamic_fields=True을 설정하면 Milvus에서는 미리 정의하지 않은 스칼라 필드를 삽입할 수 있음\n",
    "\n",
    "-> 쿼리 및 관리의 복잡성이 증가하여 성능에 영향을 미칠 수 있음"
   ]
  },
  {
   "cell_type": "code",
   "execution_count": 14,
   "id": "5df71c36",
   "metadata": {},
   "outputs": [
    {
     "data": {
      "text/plain": [
       "{'auto_id': False, 'description': '', 'fields': [{'name': 'varchar_field1', 'description': '', 'type': <DataType.VARCHAR: 21>, 'params': {'max_length': 100}, 'default_value': string_data: \"Unknown\"\n",
       ", 'nullable': True}, {'name': 'varchar_field2', 'description': '', 'type': <DataType.VARCHAR: 21>, 'params': {'max_length': 200}, 'nullable': True}, {'name': 'pk', 'description': '', 'type': <DataType.INT64: 5>, 'is_primary': True, 'auto_id': False}, {'name': 'embedding', 'description': '', 'type': <DataType.FLOAT_VECTOR: 101>, 'params': {'dim': 3}}], 'enable_dynamic_field': False}"
      ]
     },
     "execution_count": 14,
     "metadata": {},
     "output_type": "execute_result"
    }
   ],
   "source": [
    "from pymilvus import MilvusClient, DataType\n",
    "\n",
    "# Define server address\n",
    "SERVER_ADDR = \"http://localhost:19530\"\n",
    "\n",
    "# Create a MilvusClient instance\n",
    "client = MilvusClient(uri=SERVER_ADDR)\n",
    "\n",
    "# Define the collection schema\n",
    "schema = client.create_schema(\n",
    "    auto_id=False,\n",
    "    enable_dynamic_fields=True,\n",
    ")\n",
    "\n",
    "# Add 'varchar_field1' that supports up null values with default value \"Unknown\"\n",
    "schema.add_field(field_name=\"varchar_field1\", datatype=DataType.VARCHAR, max_length=100, nullable=True, default_value=\"Unknown\")\n",
    "# Add 'varchar_field2' that supports null values without default value\n",
    "schema.add_field(field_name=\"varchar_field2\", datatype=DataType.VARCHAR, max_length=200, nullable=True)\n",
    "schema.add_field(field_name=\"pk\", datatype=DataType.INT64, is_primary=True)\n",
    "schema.add_field(field_name=\"embedding\", datatype=DataType.FLOAT_VECTOR, dim=3)"
   ]
  },
  {
   "cell_type": "markdown",
   "id": "85d0e62b",
   "metadata": {},
   "source": [
    "# 인덱스 매개변수 설정"
   ]
  },
  {
   "cell_type": "code",
   "execution_count": null,
   "id": "198cd298",
   "metadata": {},
   "outputs": [],
   "source": [
    "# Set index params\n",
    "index_params = client.prepare_index_params()\n",
    "\n",
    "# Index \"varchar_field1\" with AUTOINDEX\n",
    "index_params.add_index(\n",
    "    field_name=\"varchar_field1\",\n",
    "    index_type=\"AUTOINDEX\",\n",
    "    index_name=\"varchar_index\"\n",
    ")\n",
    "\n",
    "# Index \"embedding\" with AUTOINDEX and specify metric_type\n",
    "index_params.add_index(\n",
    "    field_name=\"embedding\",\n",
    "    index_type=\"AUTOINDEX\", # Use automatic indexing to simplify complex index settings\n",
    "    metric_type=\"COSINE\" # Specify similarity metric type, options include L2, COSINE, or IP\n",
    ")"
   ]
  },
  {
   "cell_type": "markdown",
   "id": "a11772d6",
   "metadata": {},
   "source": [
    "# 컬렉션 만들기"
   ]
  },
  {
   "cell_type": "code",
   "execution_count": 16,
   "id": "b12634f1",
   "metadata": {},
   "outputs": [],
   "source": [
    "if client.has_collection(\"my_collection\"):\n",
    "    client.drop_collection(\"my_collection\")\n",
    "\n",
    "client.create_collection(\n",
    "    collection_name=\"my_collection\",\n",
    "    schema=schema,\n",
    "    index_params=index_params\n",
    ")"
   ]
  },
  {
   "cell_type": "markdown",
   "id": "172a1344",
   "metadata": {},
   "source": [
    "# 데이터 삽입\n",
    "- 컬렉션 생성 후 스키마와 일치하는 엔티티를 삽입"
   ]
  },
  {
   "cell_type": "code",
   "execution_count": 17,
   "id": "b5e5864c",
   "metadata": {},
   "outputs": [
    {
     "data": {
      "text/plain": [
       "{'insert_count': 7, 'ids': [1, 2, 3, 4, 5, 6, 7], 'cost': 0}"
      ]
     },
     "execution_count": 17,
     "metadata": {},
     "output_type": "execute_result"
    }
   ],
   "source": [
    "data = [\n",
    "    {\"varchar_field1\": \"Product A\", \"varchar_field2\": \"High quality product\", \"pk\": 1, \"embedding\": [0.1, 0.2, 0.3]},\n",
    "    {\"varchar_field1\": \"Product B\", \"pk\": 2, \"embedding\": [0.4, 0.5, 0.6]}, # varchar_field2 field is missing, which should be NULL\n",
    "    {\"varchar_field1\": None, \"varchar_field2\": None, \"pk\": 3, \"embedding\": [0.2, 0.3, 0.1]},  # `varchar_field1` should default to `Unknown`, `varchar_field2` is NULL\n",
    "    {\"varchar_field1\": \"Product C\", \"varchar_field2\": None, \"pk\": 4, \"embedding\": [0.5, 0.7, 0.2]},  # `varchar_field2` is NULL\n",
    "    {\"varchar_field1\": None, \"varchar_field2\": \"Exclusive deal\", \"pk\": 5, \"embedding\": [0.6, 0.4, 0.8]},  # `varchar_field1` should default to `Unknown`\n",
    "    {\"varchar_field1\": \"Unknown\", \"varchar_field2\": None, \"pk\": 6, \"embedding\": [0.8, 0.5, 0.3]},  # `varchar_field2` is NULL\n",
    "    {\"varchar_field1\": \"\", \"varchar_field2\": \"Best seller\", \"pk\": 7, \"embedding\": [0.8, 0.5, 0.3]}, # Empty string is not treated as NULL\n",
    "]\n",
    "\n",
    "client.insert(\n",
    "    collection_name=\"my_collection\",\n",
    "    data=data\n",
    ")\n"
   ]
  },
  {
   "cell_type": "markdown",
   "id": "541abde6",
   "metadata": {},
   "source": [
    "# 필터 표현식을 사용하여 쿼리\n",
    "- 엔티티를 삽입 후 query 메서드를 사용하여 지정된 필터 표현식과 일치하는 엔티티를 검색\n"
   ]
  },
  {
   "cell_type": "code",
   "execution_count": 19,
   "id": "8fdbde9c",
   "metadata": {},
   "outputs": [
    {
     "name": "stdout",
     "output_type": "stream",
     "text": [
      "data: [\"{'varchar_field1': 'Product A', 'varchar_field2': 'High quality product', 'pk': 1}\"]\n"
     ]
    }
   ],
   "source": [
    "# Filter 'varchar_field1' with value \"Product A\"\n",
    "filter = 'varchar_field1 == \"Product A\"'\n",
    "\n",
    "res = client.query(\n",
    "    collection_name=\"my_collection\",\n",
    "    filter=filter,\n",
    "    output_fields=[\"varchar_field1\", \"varchar_field2\"]\n",
    ")\n",
    "\n",
    "print(res)"
   ]
  },
  {
   "cell_type": "code",
   "execution_count": 20,
   "id": "7c2e1b76",
   "metadata": {},
   "outputs": [
    {
     "name": "stdout",
     "output_type": "stream",
     "text": [
      "data: [\"{'varchar_field2': None, 'varchar_field1': 'Product B', 'pk': 2}\", \"{'varchar_field2': None, 'varchar_field1': 'Unknown', 'pk': 3}\", \"{'varchar_field2': None, 'varchar_field1': 'Product C', 'pk': 4}\", \"{'varchar_field2': None, 'varchar_field1': 'Unknown', 'pk': 6}\"]\n"
     ]
    }
   ],
   "source": [
    "# Filter entities where `varchar_field2` is null\n",
    "filter = 'varchar_field2 is null'\n",
    "\n",
    "res = client.query(\n",
    "    collection_name=\"my_collection\",\n",
    "    filter=filter,\n",
    "    output_fields=[\"varchar_field1\", \"varchar_field2\"]\n",
    ")\n",
    "\n",
    "print(res)\n",
    "\n",
    "# Example output:\n",
    "# data: [\n",
    "#     \"{'varchar_field1': 'Product B', 'varchar_field2': None, 'pk': 2}\",\n",
    "#     \"{'varchar_field1': 'Unknown', 'varchar_field2': None, 'pk': 3}\",\n",
    "#     \"{'varchar_field1': 'Product C', 'varchar_field2': None, 'pk': 4}\",\n",
    "#     \"{'varchar_field1': 'Unknown', 'varchar_field2': None, 'pk': 6}\"\n",
    "# ]\n"
   ]
  },
  {
   "cell_type": "code",
   "execution_count": 21,
   "id": "f7b23f67",
   "metadata": {},
   "outputs": [
    {
     "name": "stdout",
     "output_type": "stream",
     "text": [
      "data: [\"{'varchar_field1': 'Unknown', 'varchar_field2': None, 'pk': 3}\", \"{'varchar_field1': 'Unknown', 'varchar_field2': 'Exclusive deal', 'pk': 5}\", \"{'varchar_field1': 'Unknown', 'varchar_field2': None, 'pk': 6}\"]\n"
     ]
    }
   ],
   "source": [
    "# Filter entities with `varchar_field1` with value `Unknown`\n",
    "filter = 'varchar_field1 == \"Unknown\"'\n",
    "\n",
    "res = client.query(\n",
    "    collection_name=\"my_collection\",\n",
    "    filter=filter,\n",
    "    output_fields=[\"varchar_field1\", \"varchar_field2\"]\n",
    ")\n",
    "\n",
    "print(res)\n",
    "\n",
    "# Example output:\n",
    "# data: [\n",
    "#     \"{'varchar_field1': 'Unknown', 'varchar_field2': None, 'pk': 3}\",\n",
    "#     \"{'varchar_field1': 'Unknown', 'varchar_field2': 'Exclusive deal', 'pk': 5}\",\n",
    "#     \"{'varchar_field1': 'Unknown', 'varchar_field2': None, 'pk': 6}\"\n",
    "# ]\n"
   ]
  },
  {
   "cell_type": "markdown",
   "id": "b6e5a81d",
   "metadata": {},
   "source": [
    "## 필터 표현식을 사용한 벡터 검색\n",
    "- 기본 스칼라 필드 필터링 외에도 벡터 유사도 검색을 스칼라 필드 필터와 결합할 수 있음"
   ]
  },
  {
   "cell_type": "code",
   "execution_count": 23,
   "id": "6ff35481",
   "metadata": {},
   "outputs": [
    {
     "name": "stdout",
     "output_type": "stream",
     "text": [
      "data: [[{'pk': 7, 'distance': -0.04468163847923279, 'entity': {'varchar_field1': '', 'varchar_field2': 'Best seller'}}]]\n"
     ]
    }
   ],
   "source": [
    "# Search with string filtering\n",
    "\n",
    "# Filter 'varchar_field2' with value \"Best Seller\"\n",
    "filter = 'varchar_field2 == \"Best seller\"'\n",
    "\n",
    "res = client.search(\n",
    "    collection_name=\"my_collection\",\n",
    "    data=[[0.3, -0.6, 0.1]],\n",
    "    limit=5,\n",
    "    search_params={\"params\": {\"nprobe\": 10}},\n",
    "    output_fields=[\"varchar_field1\", \"varchar_field2\"],\n",
    "    filter=filter\n",
    ")\n",
    "\n",
    "print(res)"
   ]
  },
  {
   "cell_type": "code",
   "execution_count": null,
   "id": "8551d79c",
   "metadata": {},
   "outputs": [],
   "source": []
  }
 ],
 "metadata": {
  "kernelspec": {
   "display_name": "milvus_study",
   "language": "python",
   "name": "python3"
  },
  "language_info": {
   "codemirror_mode": {
    "name": "ipython",
    "version": 3
   },
   "file_extension": ".py",
   "mimetype": "text/x-python",
   "name": "python",
   "nbconvert_exporter": "python",
   "pygments_lexer": "ipython3",
   "version": "3.10.12"
  }
 },
 "nbformat": 4,
 "nbformat_minor": 5
}

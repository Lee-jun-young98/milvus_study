{
 "cells": [
  {
   "cell_type": "markdown",
   "id": "bdead50e",
   "metadata": {},
   "source": [
    "# 범위 검색\n",
    "- 특정 범위 내에서 반환되는 엔티티의 거리 또는 점수를 제한하여 검색 결과의 관련성을 향상시킴\n",
    "- 이 페이지에서는 범위 검색의 정의와 범위 검색을 수행하는 절차에 대한 이해를 도움\n",
    "\n",
    "참고자료: https://milvus.io/docs/ko/range-search.md"
   ]
  },
  {
   "cell_type": "markdown",
   "id": "c4c21277",
   "metadata": {
    "vscode": {
     "languageId": "plaintext"
    }
   },
   "source": [
    "## 개요\n",
    "- 밀버스는 범위 검색 요청을 실행할 때 ANN 검색 결과에서 쿼리 벡터와 가장 유사한 벡터를 중심으로 잡고, 검색 요청에 지정된 반경을 바깥쪽 원의 반경으로, 범위 필터를 안쪽 원의 반경으로 하여 동심원을 두 개 그림\n",
    "- 이 두 동심원으로 형성된 환형 영역에 속하는 유사도 점수가 있는 모든 벡터가 반환\n",
    "- 여기서 range_filter를 0으로 설정하면 지정된 유사도 점수(반경) 내의 모든 엔티티가 반환"
   ]
  },
  {
   "cell_type": "markdown",
   "id": "80bd9400",
   "metadata": {
    "vscode": {
     "languageId": "plaintext"
    }
   },
   "source": [
    "## 예제\n",
    "- 이 섹션에서는 범위 검색을 수행하는 방법을 설명\n",
    "- 다음 코드 스니펫의 검색 요청에는 메트릭 유형이 포함되어 있지 않으므로 기본 메트릭 유형인 COSINE이 적용\n",
    "- 다음 코드 조각에서 radius을 0.4로, range_filter를 0.6으로 설정하여 Milvus가 쿼리 벡터와의 거리 또는 점수가 0.4~0.6 내에 속하는 모든 엔티티를 반환하도록 함"
   ]
  },
  {
   "cell_type": "code",
   "execution_count": 1,
   "id": "5f351f62",
   "metadata": {},
   "outputs": [
    {
     "name": "stdout",
     "output_type": "stream",
     "text": [
      "TopK results:\n",
      "{'id': 2, 'distance': 0.5928734540939331, 'entity': {}}\n",
      "{'id': 3, 'distance': 0.45276781916618347, 'entity': {}}\n",
      "{'id': 7, 'distance': 0.4388217329978943, 'entity': {}}\n"
     ]
    }
   ],
   "source": [
    "from pymilvus import MilvusClient\n",
    "\n",
    "client = MilvusClient(\n",
    "    uri=\"http://localhost:19530\",\n",
    "    token=\"root:Milvus\"\n",
    ")\n",
    "\n",
    "query_vector = [0.3580376395471989, -0.6023495712049978, 0.18414012509913835, -0.26286205330961354, 0.9029438446296592]\n",
    "\n",
    "res = client.search(\n",
    "    collection_name=\"my_collection\",\n",
    "    data=[query_vector],\n",
    "    limit=3,\n",
    "    search_params={\n",
    "        # highlight-start\n",
    "        \"params\": {\n",
    "            \"radius\": 0.4,\n",
    "            \"range_filter\": 0.6\n",
    "        }\n",
    "        # highlight-end\n",
    "    }\n",
    ")\n",
    "\n",
    "for hits in res:\n",
    "    print(\"TopK results:\")\n",
    "    for hit in hits:\n",
    "        print(hit)\n"
   ]
  }
 ],
 "metadata": {
  "kernelspec": {
   "display_name": "milvus_study",
   "language": "python",
   "name": "python3"
  },
  "language_info": {
   "codemirror_mode": {
    "name": "ipython",
    "version": 3
   },
   "file_extension": ".py",
   "mimetype": "text/x-python",
   "name": "python",
   "nbconvert_exporter": "python",
   "pygments_lexer": "ipython3",
   "version": "3.10.12"
  }
 },
 "nbformat": 4,
 "nbformat_minor": 5
}

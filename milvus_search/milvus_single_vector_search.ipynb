{
 "cells": [
  {
   "cell_type": "markdown",
   "id": "16672ddb",
   "metadata": {},
   "source": [
    "# 기본 벡터 검색\n",
    "- 정렬된 순서를 기록한 인덱스 파일을 기반으로 하는 ANN 검색\n",
    "- 수신된 검색 요청에 포함된 쿼리 벡터를 기반으로 벡터 임베딩 하위 집합을 찾아 쿼리 벡터와 하위 그룹에 있는 벡터를 비교하여 반환\n",
    "\n",
    "참고자료: https://milvus.io/docs/ko/single-vector-search.md"
   ]
  },
  {
   "cell_type": "markdown",
   "id": "7faa1108",
   "metadata": {},
   "source": [
    "## 개요\n",
    "- kNN은 벡터 공간의 모든 벡터를 검색 요청에 포함된 쿼리 벡터와 비교하여 가장 유사한 벡터를 찾아내야 하므로 시간과 리소스가 많이 소요됨\n",
    "- ANN은 벡터 임베딩의 정렬된 순서를 기록하는 인덱스 파일을 요청\n",
    "- 검색 요청이 들어오면 인덱스 파일을 참조로 사용해 쿼리 벡터와 가장 유사한 벡터 임베딩이 포함된 하위 그룹을 빠르게 찾음\n",
    "- 그 다음 지정된 메트릭 유형을 사용해 쿼리 벡터와 하위 그룹 벡터의 유사성을 측정하고, 쿼리 벡터와 유사성을 기준으로 그룹 구성원을 정렬하고, 상위 K개의 그룹 구성원을 파악할 수 잇음\n",
    "- ANN 검색은 미리 구축된 인덱스에 따라 달라지며, 검색 처리량, 메모리 사용량 및 검색 정확도는 선택한 인덱스 유형에 따라 달라질 수 있음"
   ]
  },
  {
   "cell_type": "markdown",
   "id": "b9537d76",
   "metadata": {},
   "source": [
    "## 단일 벡터 검색\n",
    "- ANN 검색에서 단일 벡터 검색은 하나의 쿼리 벡터만 포함하는 검색을 의미\n",
    "- 미리 구축된 인덱스와 검색 요청에 포함된 메트릭 유형에 따라 Milvus는 쿼리 벡터와 가장 유사한 상위 K개의 벡터를 찾음\n",
    "- 이 섹션에서는 단일 벡터 검색을 수행함\n",
    "- 검색 요청은 단일 쿼리 벡터를 전달하고 Milvus가 내적 곱(IP)을 사용하여 쿼리 벡터와 컬렉션의 벡터 간의 유사도를 계산하고 가장 유사한 세 개의 벡터를 반환하도록 요청"
   ]
  },
  {
   "cell_type": "code",
   "execution_count": 3,
   "id": "eda47e3a",
   "metadata": {},
   "outputs": [
    {
     "name": "stdout",
     "output_type": "stream",
     "text": [
      "{'id': 5, 'distance': 0.959449052810669, 'entity': {}}\n",
      "{'id': 1, 'distance': 0.8689615726470947, 'entity': {}}\n",
      "{'id': 7, 'distance': 0.8660879731178284, 'entity': {}}\n"
     ]
    }
   ],
   "source": [
    "from pymilvus import MilvusClient\n",
    "\n",
    "client = MilvusClient(\n",
    "    uri=\"http://localhost:19530\",\n",
    "    token=\"root:Milvus\"\n",
    ")\n",
    "\n",
    "# 4. Single vector search\n",
    "# vector 검색을 사용할 때 \n",
    "query_vector = [0.3580376395471989, -0.6023495712049978, 0.18414012509913835, -0.26286205330961354, 0.9029438446296592]\n",
    "res = client.search(\n",
    "    collection_name=\"quick_setup\",\n",
    "    anns_field=\"vector\",\n",
    "    data=[query_vector],\n",
    "    limit=3,\n",
    "    search_params={\"metric_type\": \"COSINE\"} # metric type을 처음 DB 만들 때 해줘야 함\n",
    ")\n",
    "\n",
    "for hits in res:\n",
    "    for hit in hits:\n",
    "        print(hit)"
   ]
  },
  {
   "cell_type": "markdown",
   "id": "6a566040",
   "metadata": {},
   "source": [
    "## 대량 벡터 검색\n",
    "- 검색 요청에 여러 개의 쿼리 벡터를 포함할 수 있음\n",
    "- Milvus는 쿼리 벡터에 대해 ANN 검색을 병렬로 수행하여 두 세트의 결과를 반환"
   ]
  },
  {
   "cell_type": "code",
   "execution_count": 4,
   "id": "9a5e25d9",
   "metadata": {},
   "outputs": [
    {
     "name": "stdout",
     "output_type": "stream",
     "text": [
      "TopK results:\n",
      "{'id': 11, 'distance': 0.6200898289680481, 'entity': {}}\n",
      "{'id': 1, 'distance': 0.49548205733299255, 'entity': {}}\n",
      "{'id': 3, 'distance': 0.32014700770378113, 'entity': {}}\n",
      "TopK results:\n",
      "{'id': 14, 'distance': 0.7571712732315063, 'entity': {}}\n",
      "{'id': 6, 'distance': 0.5678123235702515, 'entity': {}}\n",
      "{'id': 13, 'distance': 0.5497628450393677, 'entity': {}}\n"
     ]
    }
   ],
   "source": [
    "query_vectors = [\n",
    "    [0.041732933, 0.013779674, -0.027564144, -0.013061441, 0.009748648],\n",
    "    [0.0039737443, 0.003020432, -0.0006188639, 0.03913546, -0.00089768134]\n",
    "]\n",
    "\n",
    "res = client.search(\n",
    "    collection_name=\"quick_setup\",\n",
    "    data=query_vectors,\n",
    "    limit=3,\n",
    ")\n",
    "\n",
    "for hits in res:\n",
    "    print(\"TopK results:\")\n",
    "    for hit in hits:\n",
    "        print(hit)"
   ]
  },
  {
   "cell_type": "markdown",
   "id": "901dca37",
   "metadata": {},
   "source": [
    "## 파티션에서 ANN 검색\n",
    "- 컬렉션에 여러 개의 파티션을 만들었고 검색 범위를 특정 수의 파티션으로 좁힐 수 있다고 가정\n",
    "- 이 경우 검색 요청에 대상 파티션 이름을 포함시켜 검색 범위를 지정된 파티션 내로 제한할 수 있음\n",
    "- 검색에 관련된 파티션 수를 줄이면 검색 성능이 향상"
   ]
  },
  {
   "cell_type": "code",
   "execution_count": 5,
   "id": "c25d4ceb",
   "metadata": {},
   "outputs": [
    {
     "name": "stdout",
     "output_type": "stream",
     "text": [
      "TopK results:\n",
      "{'id': 13, 'distance': 0.6395301818847656, 'entity': {}}\n",
      "{'id': 12, 'distance': 0.5408027768135071, 'entity': {}}\n",
      "{'id': 11, 'distance': 0.475819855928421, 'entity': {}}\n"
     ]
    }
   ],
   "source": [
    "# 4. Single vector search\n",
    "query_vector = [0.3580376395471989, -0.6023495712049978, 0.18414012509913835, -0.26286205330961354, 0.9029438446296592]\n",
    "res = client.search(\n",
    "    collection_name=\"quick_setup\",\n",
    "    partition_names=[\"partitionA\"],\n",
    "    data=[query_vector],\n",
    "    limit=3,\n",
    ")\n",
    "\n",
    "for hits in res:\n",
    "    print(\"TopK results:\")\n",
    "    for hit in hits:\n",
    "        print(hit)"
   ]
  },
  {
   "cell_type": "markdown",
   "id": "f05c1f2f",
   "metadata": {},
   "source": [
    "## 출력 필드 사용\n",
    "- 검색 결과에서 Milvus는 기본적으로 상위 K 벡터 임베딩을 포함하는 엔티티의 기본 필드 값과 유사도 거리/점수를 포함\n",
    "- 벡터 필드와 스칼라 필드를 포함한 대상 필드의 이름을 검색 요청에 출력 필드를 포함하면 검색 결과에 이러한 엔티티의 다른 필드 값이 포함되도록 할 수 있음"
   ]
  },
  {
   "cell_type": "code",
   "execution_count": 9,
   "id": "b2791792",
   "metadata": {},
   "outputs": [
    {
     "name": "stdout",
     "output_type": "stream",
     "text": [
      "data: [[{'id': 5, 'distance': 0.959449052810669, 'entity': {'color': 'black_9955'}}, {'id': 1, 'distance': 0.8689615726470947, 'entity': {'color': 'red_7319'}}, {'id': 7, 'distance': 0.8660879731178284, 'entity': {'color': 'white_5015'}}]]\n"
     ]
    }
   ],
   "source": [
    "# 4. Single vector search\n",
    "query_vector = [0.3580376395471989, -0.6023495712049978, 0.18414012509913835, -0.26286205330961354, 0.9029438446296592]\n",
    "\n",
    "res = client.search(\n",
    "    collection_name=\"quick_setup\",\n",
    "    data=[query_vector],\n",
    "    limit=3, # The number of results to return\n",
    "    search_params={\"metric_type\": \"COSINE\"},\n",
    "    output_fields=[\"color\"]\n",
    ")\n",
    "\n",
    "print(res)"
   ]
  },
  {
   "cell_type": "markdown",
   "id": "13dfc0e2",
   "metadata": {},
   "source": [
    "## 제한 및 오프셋 사용\n",
    "- 검색 요청에 포함된 limit 매개변수가 검색 결과에 포함할 엔티티의 수를 결정\n",
    "- 단일 검색에서 반환할 최대 엔티티 수를 지정하며, top-K라고 함\n",
    "- 페이지 매김 쿼리를 수행하려는 경우 루프를 사용하여 여러 개의 검색 요청을 보내고 각 쿼리 요청에 제한 및 오프셋 매개변수를 전달할 수 있음\n",
    "- 구체적으로, 현재 쿼리 결과에 포함하려는 엔티티의 수로 Limit 매개변수를 설정하고, 이미 반환된 엔티티의 총 수로 Offset을 설정\n",
    "- 단일 ANN 검색에서 limit와 offet의 합은 16,384 미만이어야 함"
   ]
  },
  {
   "cell_type": "code",
   "execution_count": null,
   "id": "e14a8b7a",
   "metadata": {},
   "outputs": [],
   "source": [
    "query_vector = [0.3580376395471989, -0.6023495712049978, 0.18414012509913835, -0.26286205330961354, 0.9029438446296592]\n",
    "\n",
    "res = client.search(\n",
    "    collection_name=\"quick_setup\",\n",
    "    data=[query_vector],\n",
    "    limit=3, # The number of results to return\n",
    "    search_params={\n",
    "        \"metric_type\": \"COSINE\", \n",
    "        # highlight-next-line\n",
    "        \"offset\": 10 # The records to skip\n",
    "    }\n",
    ")"
   ]
  }
 ],
 "metadata": {
  "kernelspec": {
   "display_name": "milvus_study",
   "language": "python",
   "name": "python3"
  },
  "language_info": {
   "codemirror_mode": {
    "name": "ipython",
    "version": 3
   },
   "file_extension": ".py",
   "mimetype": "text/x-python",
   "name": "python",
   "nbconvert_exporter": "python",
   "pygments_lexer": "ipython3",
   "version": "3.10.12"
  }
 },
 "nbformat": 4,
 "nbformat_minor": 5
}
